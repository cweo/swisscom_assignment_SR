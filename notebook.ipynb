{
 "metadata": {
  "language_info": {
   "codemirror_mode": {
    "name": "ipython",
    "version": 3
   },
   "file_extension": ".py",
   "mimetype": "text/x-python",
   "name": "python",
   "nbconvert_exporter": "python",
   "pygments_lexer": "ipython3",
   "version": "3.8.5-final"
  },
  "orig_nbformat": 2,
  "kernelspec": {
   "name": "python38564bitswisscomconda5d2910620ab74601a1f022e253b7f7af",
   "display_name": "Python 3.8.5 64-bit ('swisscom': conda)"
  }
 },
 "nbformat": 4,
 "nbformat_minor": 2,
 "cells": [
  {
   "source": [
    "# Speaker gender classification\n",
    "## Master Student Assignment -- Swisscom\n",
    "### By Johan Barthas\n",
    "\n",
    "The goal of this notebook is to use different approaches to do a Speaker Gender Classification task using the `dev-clean` corpus from [LibriSpeech](http://www.openslr.org/12/).\n",
    "\n",
    "For this task, we will:\n",
    "* Explore the dataset to have a good sense of the kind of data we are dealing with. This will help us decide how we will extract a dataset from the corpus we are given.\n",
    "* Generate a dataset using MFCC features which is a common way to generate features for Speech Recognition tasks. For general purpose, MFCC must be used cautiously because it's [very sensitive to noise](https://ieeexplore.ieee.org/document/7939548).\n",
    "* Train a few models on this dataset with different approaches:\n",
    "    * K-Nearest Neighbors\n",
    "    * Support Vector Machines with RBF kernel\n",
    "    * MultiLayer Perceptron\n",
    "    * 1D Convolutional neural network with dense layers"
   ],
   "cell_type": "markdown",
   "metadata": {}
  },
  {
   "source": [
    "### Loading libraries"
   ],
   "cell_type": "markdown",
   "metadata": {}
  },
  {
   "cell_type": "code",
   "execution_count": 20,
   "metadata": {},
   "outputs": [],
   "source": [
    "import os\n",
    "from pathlib import Path\n",
    "import pandas as pd\n",
    "import matplotlib.pyplot as plt\n",
    "import numpy as np\n",
    "from typing import Tuple, List, Union\n",
    "from tqdm.notebook import tqdm\n",
    "from collections import defaultdict\n",
    "from operator import itemgetter\n",
    "\n",
    "import librosa\n",
    "\n",
    "from sklearn.preprocessing import StandardScaler\n",
    "from sklearn.neighbors import KNeighborsClassifier\n",
    "from sklearn.svm import SVC\n",
    "from sklearn.neural_network import MLPClassifier\n",
    "from sklearn.metrics import classification_report\n",
    "\n",
    "import torch\n",
    "import torch.nn as nn\n",
    "import torch.optim as optim\n",
    "from torch.utils.tensorboard import SummaryWriter\n",
    "from torch.utils.data import DataLoader, TensorDataset\n",
    "\n",
    "plt.rcParams['figure.figsize'] = [10, 6]"
   ]
  },
  {
   "source": [
    "## Exploring the dataset\n",
    "\n",
    "### Introducing a few helper methods / class\n",
    "\n",
    "We start this section by introducing a few helpers that will be used to generate our dataset. The features will be computed using `librosa.feature.mfcc` from the librosa Python library which allows us to directly read .FLAC files (format used in LibriSpeech dev-clean corpus).\n",
    "__Note:__ Please read the docstring for more information on each function / class implemented."
   ],
   "cell_type": "markdown",
   "metadata": {}
  },
  {
   "cell_type": "code",
   "execution_count": 21,
   "metadata": {},
   "outputs": [],
   "source": [
    "def compute_mfcc(flac_path: Path, n_mfcc: int, hop_length: int,\n",
    "                 n_fft: int) -> np.array:\n",
    "    \"\"\"Returns the mean of n_mfcc MFCC features for a given audio file.\n",
    "\n",
    "    Args:\n",
    "        flac_path (Path): Path of the audio file to process.\n",
    "        n_mfcc (int): Number of features to extract.\n",
    "        hop_length (int): Length of each frame we compute the MFCC on.\n",
    "        n_fft (int): The length to compute the Fast Fourier Transform on.\n",
    "\n",
    "    Returns:\n",
    "        np.array: The mean of the n_mfcc MFCC features computed.\n",
    "    \"\"\"\n",
    "\n",
    "    y, sr = librosa.load(flac_path)\n",
    "    hop_length = hop_length\n",
    "    n_fft = n_fft\n",
    "    mfcc_result = librosa.feature.mfcc(y=y,\n",
    "                                       sr=sr,\n",
    "                                       hop_length=hop_length,\n",
    "                                       n_fft=n_fft,\n",
    "                                       n_mfcc=n_mfcc)\n",
    "\n",
    "    # We take the mean over the sample, while not being robust\n",
    "    # with noise concern, the cleaniness of our dataset allows \n",
    "    # to use it.\n",
    "    mfcc_mean = np.mean(mfcc_result, axis=1)\n",
    "    return mfcc_mean\n",
    "\n",
    "\n",
    "def report(\n",
    "    y_test: np.array, y_pred: np.array) -> Union[str, dict]:\n",
    "    \"\"\"[summary]\n",
    "\n",
    "    Args:\n",
    "        y_test (np.array): The test labels with binary values.\n",
    "        y_pred (np.array): The predicted labels with binary values.\n",
    "        output_dict (bool): Output is dict if True else a stringified version.\n",
    "\n",
    "    Returns:\n",
    "        Union[str, dict]: Either a string or a dict of the metrics\n",
    "            from sklearn.metrics.classification_report.\n",
    "    \"\"\"\n",
    "    labels_names = np.array([0, 1])\n",
    "    target_names = [\"F\", \"M\"]\n",
    "    return classification_report(y_test,\n",
    "                                 y_pred,\n",
    "                                 labels=labels_names,\n",
    "                                 target_names=target_names)"
   ]
  },
  {
   "cell_type": "code",
   "execution_count": 22,
   "metadata": {},
   "outputs": [],
   "source": [
    "\n",
    "DATA_PATH = \"./data/LibriSpeech/\"\n",
    "LABELS = {\"M\": 1, \"F\": 0}\n",
    "\n",
    "\n",
    "class Dataset:\n",
    "    \"\"\" Class helping use extract both data and metadata from\n",
    "        the dev-clean corpus.\"\"\"\n",
    "    def __init__(self, subset: str = \"dev-clean\", random_seed: int = 42):\n",
    "        self.subset = subset\n",
    "        self.chapters = None\n",
    "        self.speakers = None\n",
    "        self.merged_df = None\n",
    "        self.random_seed = random_seed\n",
    "\n",
    "    def get_metadata_df(self, name: str) -> pd.DataFrame:\n",
    "        \"\"\"Return the metadata datasets: 'chapters' and 'speakers' as\n",
    "            as a pandas DataFrame.\n",
    "\n",
    "        Args:\n",
    "            name (str): 'chapters' or 'speakers'.\n",
    "\n",
    "        Raises:\n",
    "            NotImplementedError: Raised if metadata name is not recognised.\n",
    "\n",
    "        Returns:\n",
    "            pd.DataFrame: pandas DataFrame with schema dictionary:\n",
    "                * chapters: (book_id, reader_id, minutes)\n",
    "                * speakers: (reader_id, gender)\n",
    "        \"\"\"\n",
    "        if name not in {\"chapters\", \"speakers\"}:\n",
    "            raise NotImplementedError\n",
    "        dict_skiprows = {\"chapters\": 13, \"speakers\": 11}\n",
    "        dict_txt_name = {\n",
    "            \"chapters\": \"CHAPTERS.TXT\",\n",
    "            \"speakers\": \"SPEAKERS.TXT\"\n",
    "        }\n",
    "        txt_file = os.path.join(DATA_PATH, dict_txt_name[name])\n",
    "        num_skiprows = dict_skiprows[name]\n",
    "\n",
    "        if name == \"chapters\":\n",
    "            if not isinstance(self.chapters, pd.DataFrame):\n",
    "                df = pd.read_csv(txt_file,\n",
    "                                 sep=\"|\",\n",
    "                                 skiprows=range(num_skiprows))\n",
    "                df.rename(columns=lambda x: x.strip(), inplace=True)\n",
    "                df.rename(columns={\";ID\": \"ID\"}, inplace=True)\n",
    "                df[\"SUBSET\"] = df[\"SUBSET\"].str.strip()\n",
    "                df = df[df[\"SUBSET\"] == self.subset]\n",
    "                df = df.astype({\n",
    "                    \"ID\": int,\n",
    "                    \"READER\": int,\n",
    "                    \"MINUTES\": float\n",
    "                },\n",
    "                               copy=False)\n",
    "                self.chapters = df[['ID', 'READER', 'MINUTES']]\n",
    "            return self.chapters\n",
    "\n",
    "        if not isinstance(self.speakers, pd.DataFrame):\n",
    "            # For speakers, there are | to separate authors, thus we can\n",
    "            # not use pd.read_csv but we can iterate the text file and collect\n",
    "            # what we need.\n",
    "            df = pd.DataFrame(columns=[\"ID\", \"GENDER\"])\n",
    "            with open(txt_file, \"r\") as f:\n",
    "                i = 0\n",
    "                for i, line in enumerate(f):\n",
    "                    if i > num_skiprows:\n",
    "                        data_split = line.split('|')\n",
    "                        if data_split[2].strip() == \"dev-clean\":\n",
    "                            data = {\n",
    "                                \"ID\": int(float(data_split[0])),\n",
    "                                \"GENDER\": str(data_split[1]).strip()\n",
    "                            }\n",
    "                            df.loc[i - num_skiprows] = data\n",
    "                            i += 1\n",
    "            self.speakers = df.astype({\"ID\": int, \"GENDER\": str}, copy=False)\n",
    "        return self.speakers\n",
    "\n",
    "    def create_df_dataset(self) -> pd.DataFrame:\n",
    "        \"\"\"Return a dataset from dev-clean.\n",
    "\n",
    "        Returns:\n",
    "            pd.DataFrame: Schema: (gender, book_id, reader_id, minutes)\n",
    "        \"\"\"\n",
    "        if not isinstance(self.chapters, pd.DataFrame):\n",
    "            self.get_metadata_df(\"chapters\")\n",
    "\n",
    "        if not isinstance(self.speakers, pd.DataFrame):\n",
    "            self.get_metadata_df(\"speakers\")\n",
    "\n",
    "        if not isinstance(self.merged_df, pd.DataFrame):\n",
    "            merged_df = pd.merge(self.speakers,\n",
    "                                 self.chapters,\n",
    "                                 how=\"inner\",\n",
    "                                 left_on=\"ID\",\n",
    "                                 right_on=\"READER\")\n",
    "            merged_df.rename(columns={\"ID_y\": \"BOOK_ID\"}, inplace=True)\n",
    "            merged_df.drop(columns=[\"ID_x\"], inplace=True)\n",
    "            self.merged_df = merged_df\n",
    "        return self.merged_df\n",
    "\n",
    "    def _get_train_ids(self, test_ratio: float) -> List[int]:\n",
    "        \"\"\"Return the train ids obtained from sampling separately\n",
    "            from male and female entries.\n",
    "\n",
    "        Args:\n",
    "            test_ratio (float): The ratio attributed to test data.\n",
    "\n",
    "        Returns:\n",
    "            List[int]: List of reader_id used for training.\n",
    "        \"\"\"\n",
    "        mask_is_male = self.merged_df[\"GENDER\"].str.strip() == \"M\"\n",
    "        male_ids = list(\n",
    "            self.merged_df[mask_is_male]['READER'].drop_duplicates())\n",
    "        female_ids = list(\n",
    "            self.merged_df[~mask_is_male]['READER'].drop_duplicates())\n",
    "        # We reduce the outcome by \n",
    "        mask_male_train = np.random.choice(len(male_ids),\n",
    "                                           int((1 - test_ratio) *\n",
    "                                               len(male_ids)),\n",
    "                                           replace=False)\n",
    "        mask_female_train = np.random.choice(len(female_ids),\n",
    "                                             int((1 - test_ratio) *\n",
    "                                                 len(female_ids)),\n",
    "                                             replace=False)\n",
    "        return [male_ids[id] for id in mask_male_train\n",
    "                ] + [female_ids[id] for id in mask_female_train]\n",
    "\n",
    "    def np_dataset(\n",
    "        self,\n",
    "        n_mfcc: int = 20,\n",
    "        hop_length: int = 128,\n",
    "        n_fft: int = 512,\n",
    "        test_ratio: float = 0.2\n",
    "    ) -> Tuple[np.array, np.array, np.array, np.array]:\n",
    "        \"\"\"Generate a tuple (train_data, train_labels, test_data, test_labels)\n",
    "\n",
    "        Args:\n",
    "            n_mfcc (int, optional): Number of mels. Defaults to 20.\n",
    "            hop_length (int, optional): Number of samples between successive frames. Defaults to 128.\n",
    "            n_fft (int, optional): Length of the FFT window. Defaults to 512.\n",
    "            test_ratio (float, optional): Test ratio from data. Defaults to 0.2.\n",
    "\n",
    "        Raises:\n",
    "            ValueError: Raised if test_ratio is not between 0 and 1.\n",
    "\n",
    "        Returns:\n",
    "            Tuple[np.array, np.array, np.array, np.array]: (train_data, train_labels, test_data, test_labels).\n",
    "        \"\"\"\n",
    "        if not isinstance(self.merged_df, pd.DataFrame):\n",
    "            self.create_df_dataset()\n",
    "        train_data = []\n",
    "        train_labels = []\n",
    "        test_data = []\n",
    "        test_labels = []\n",
    "        length_dataset = len(self.merged_df.index)\n",
    "\n",
    "        try:\n",
    "            assert 0.0 <= test_ratio <= 1.0\n",
    "        except:\n",
    "            raise ValueError(\n",
    "                \"The value for test_ratio should be in [0.0, 1.0].\")\n",
    "\n",
    "        train_ids = self._get_train_ids(test_ratio=test_ratio)\n",
    "        # print(train_ids)\n",
    "\n",
    "        for tuple in tqdm(self.merged_df.itertuples(), total=length_dataset):\n",
    "            reader_book_path = Path(\n",
    "                os.path.join(DATA_PATH, \"dev-clean\", str(tuple[3]),\n",
    "                             str(tuple[2])))\n",
    "            supported_extensions = [\n",
    "                \".flac\",\n",
    "            ]\n",
    "            for file in reader_book_path.iterdir():\n",
    "                if file.suffix in supported_extensions:\n",
    "                    flac_path = file\n",
    "                    mfcc_mean = compute_mfcc(flac_path,\n",
    "                                             n_mfcc=n_mfcc,\n",
    "                                             hop_length=hop_length,\n",
    "                                             n_fft=n_fft)\n",
    "                    if (tuple[3] in train_ids):\n",
    "                        train_data.append(mfcc_mean)\n",
    "                        train_labels.append(LABELS[tuple[1]])\n",
    "                    else:\n",
    "                        test_data.append(mfcc_mean)\n",
    "                        test_labels.append(LABELS[tuple[1]])\n",
    "        \n",
    "        # Balance the dataset if not done, this approach is not the best\n",
    "        # Since we might end up removing a speaker due to some speakers\n",
    "        # having shorter utterances and thus more utterances.\n",
    "\n",
    "        clean_train_data, clean_train_labels = Dataset.balance_np_dataset(\n",
    "            train_data, train_labels\n",
    "        )\n",
    "        clean_test_data, clean_test_labels = Dataset.balance_np_dataset(\n",
    "            test_data, test_labels\n",
    "        )\n",
    "\n",
    "        return clean_train_data, \\\n",
    "            clean_train_labels, \\\n",
    "                clean_test_data, \\\n",
    "                    clean_test_labels\n",
    "\n",
    "    @staticmethod\n",
    "    def balance_np_dataset(\n",
    "        data: List[np.array],\n",
    "        labels: List[int]\n",
    "    ) -> Tuple[np.array, np.array]:\n",
    "        \"\"\"Return a (data, labels)\n",
    "            balanced.\n",
    "        \n",
    "        Args:\n",
    "            data (List[np.array]): MFCC features dataset.\n",
    "            labels (List[np.array]): Labels.\n",
    "\n",
    "        Returns:\n",
    "            Tuple[np.array, np.array]: Balanced data and labels.\n",
    "        \"\"\"\n",
    "        num_1 = sum(labels)\n",
    "        clean_data = []\n",
    "        clean_labels = []\n",
    "        if not num_1 == len(labels) - num_1:\n",
    "            objective = min(num_1, len(labels) - num_1)\n",
    "            current_1 = 0\n",
    "            current_0 = 0\n",
    "            for data, label in zip(data, labels):\n",
    "                if label == 0 and current_0 < objective:\n",
    "                    clean_data.append(data)\n",
    "                    clean_labels.append(label)\n",
    "                    current_0 += 1\n",
    "                elif label == 1 and current_1 < objective:\n",
    "                    clean_data.append(data)\n",
    "                    clean_labels.append(label)\n",
    "                    current_1 += 1\n",
    "        return np.array(clean_data), np.array(clean_labels)\n"
   ]
  },
  {
   "source": [
    "### Insighs on the corpus metadata"
   ],
   "cell_type": "markdown",
   "metadata": {}
  },
  {
   "source": [
    "A first insight from the dataset tells us that there are as much man than woman that are in this corpus."
   ],
   "cell_type": "markdown",
   "metadata": {}
  },
  {
   "cell_type": "code",
   "execution_count": 23,
   "metadata": {},
   "outputs": [
    {
     "output_type": "execute_result",
     "data": {
      "text/plain": [
       "GENDER\n",
       "F    20\n",
       "M    20\n",
       "Name: ID, dtype: int64"
      ]
     },
     "metadata": {},
     "execution_count": 23
    }
   ],
   "source": [
    "dataset = Dataset()\n",
    "speakers_df = dataset.get_metadata_df(\"speakers\")\n",
    "speakers_df.groupby('GENDER')['ID'].nunique()"
   ]
  },
  {
   "source": [
    "Loading the chapters metadata"
   ],
   "cell_type": "markdown",
   "metadata": {}
  },
  {
   "cell_type": "code",
   "execution_count": 24,
   "metadata": {},
   "outputs": [
    {
     "output_type": "execute_result",
     "data": {
      "text/plain": [
       "       ID  READER  MINUTES\n",
       "230  4943    3752     2.59\n",
       "231  4944    3752     5.47\n",
       "371  8226    3536     3.59\n",
       "407  9006    2902     5.37\n",
       "408  9008    2902     2.72"
      ],
      "text/html": "<div>\n<style scoped>\n    .dataframe tbody tr th:only-of-type {\n        vertical-align: middle;\n    }\n\n    .dataframe tbody tr th {\n        vertical-align: top;\n    }\n\n    .dataframe thead th {\n        text-align: right;\n    }\n</style>\n<table border=\"1\" class=\"dataframe\">\n  <thead>\n    <tr style=\"text-align: right;\">\n      <th></th>\n      <th>ID</th>\n      <th>READER</th>\n      <th>MINUTES</th>\n    </tr>\n  </thead>\n  <tbody>\n    <tr>\n      <th>230</th>\n      <td>4943</td>\n      <td>3752</td>\n      <td>2.59</td>\n    </tr>\n    <tr>\n      <th>231</th>\n      <td>4944</td>\n      <td>3752</td>\n      <td>5.47</td>\n    </tr>\n    <tr>\n      <th>371</th>\n      <td>8226</td>\n      <td>3536</td>\n      <td>3.59</td>\n    </tr>\n    <tr>\n      <th>407</th>\n      <td>9006</td>\n      <td>2902</td>\n      <td>5.37</td>\n    </tr>\n    <tr>\n      <th>408</th>\n      <td>9008</td>\n      <td>2902</td>\n      <td>2.72</td>\n    </tr>\n  </tbody>\n</table>\n</div>"
     },
     "metadata": {},
     "execution_count": 24
    }
   ],
   "source": [
    "chapters_df = dataset.get_metadata_df(\"chapters\")\n",
    "chapters_df.head()"
   ]
  },
  {
   "source": [
    "### Number of minutes per speaker\n",
    "We can see on the graph below that each speaker in the dev-clean corpus speaks equally. This is good news because we wouldn't want a bias introduced by an unbalanced dataset with one speaker talking way more than the others."
   ],
   "cell_type": "markdown",
   "metadata": {}
  },
  {
   "cell_type": "code",
   "execution_count": 25,
   "metadata": {},
   "outputs": [
    {
     "output_type": "display_data",
     "data": {
      "text/plain": "<Figure size 720x432 with 1 Axes>",
      "image/svg+xml": "<?xml version=\"1.0\" encoding=\"utf-8\" standalone=\"no\"?>\n<!DOCTYPE svg PUBLIC \"-//W3C//DTD SVG 1.1//EN\"\n  \"http://www.w3.org/Graphics/SVG/1.1/DTD/svg11.dtd\">\n<!-- Created with matplotlib (https://matplotlib.org/) -->\n<svg height=\"372.35625pt\" version=\"1.1\" viewBox=\"0 0 601.665625 372.35625\" width=\"601.665625pt\" xmlns=\"http://www.w3.org/2000/svg\" xmlns:xlink=\"http://www.w3.org/1999/xlink\">\n <metadata>\n  <rdf:RDF xmlns:cc=\"http://creativecommons.org/ns#\" xmlns:dc=\"http://purl.org/dc/elements/1.1/\" xmlns:rdf=\"http://www.w3.org/1999/02/22-rdf-syntax-ns#\">\n   <cc:Work>\n    <dc:type rdf:resource=\"http://purl.org/dc/dcmitype/StillImage\"/>\n    <dc:date>2020-11-14T19:19:41.015080</dc:date>\n    <dc:format>image/svg+xml</dc:format>\n    <dc:creator>\n     <cc:Agent>\n      <dc:title>Matplotlib v3.3.2, https://matplotlib.org/</dc:title>\n     </cc:Agent>\n    </dc:creator>\n   </cc:Work>\n  </rdf:RDF>\n </metadata>\n <defs>\n  <style type=\"text/css\">*{stroke-linecap:butt;stroke-linejoin:round;}</style>\n </defs>\n <g id=\"figure_1\">\n  <g id=\"patch_1\">\n   <path d=\"M 0 372.35625 \nL 601.665625 372.35625 \nL 601.665625 0 \nL 0 0 \nz\n\" style=\"fill:none;\"/>\n  </g>\n  <g id=\"axes_1\">\n   <g id=\"patch_2\">\n    <path d=\"M 36.465625 348.478125 \nL 594.465625 348.478125 \nL 594.465625 22.318125 \nL 36.465625 22.318125 \nz\n\" style=\"fill:#ffffff;\"/>\n   </g>\n   <g id=\"matplotlib.axis_1\">\n    <g id=\"xtick_1\">\n     <g id=\"line2d_1\">\n      <defs>\n       <path d=\"M 0 0 \nL 0 3.5 \n\" id=\"m1acf848e57\" style=\"stroke:#000000;stroke-width:0.8;\"/>\n      </defs>\n      <g>\n       <use style=\"stroke:#000000;stroke-width:0.8;\" x=\"315.465625\" xlink:href=\"#m1acf848e57\" y=\"348.478125\"/>\n      </g>\n     </g>\n     <g id=\"text_1\">\n      <!-- MINUTES -->\n      <g transform=\"translate(292.889062 363.076563)scale(0.1 -0.1)\">\n       <defs>\n        <path d=\"M 9.8125 72.90625 \nL 24.515625 72.90625 \nL 43.109375 23.296875 \nL 61.8125 72.90625 \nL 76.515625 72.90625 \nL 76.515625 0 \nL 66.890625 0 \nL 66.890625 64.015625 \nL 48.09375 14.015625 \nL 38.1875 14.015625 \nL 19.390625 64.015625 \nL 19.390625 0 \nL 9.8125 0 \nz\n\" id=\"DejaVuSans-77\"/>\n        <path d=\"M 9.8125 72.90625 \nL 19.671875 72.90625 \nL 19.671875 0 \nL 9.8125 0 \nz\n\" id=\"DejaVuSans-73\"/>\n        <path d=\"M 9.8125 72.90625 \nL 23.09375 72.90625 \nL 55.421875 11.921875 \nL 55.421875 72.90625 \nL 64.984375 72.90625 \nL 64.984375 0 \nL 51.703125 0 \nL 19.390625 60.984375 \nL 19.390625 0 \nL 9.8125 0 \nz\n\" id=\"DejaVuSans-78\"/>\n        <path d=\"M 8.6875 72.90625 \nL 18.609375 72.90625 \nL 18.609375 28.609375 \nQ 18.609375 16.890625 22.84375 11.734375 \nQ 27.09375 6.59375 36.625 6.59375 \nQ 46.09375 6.59375 50.34375 11.734375 \nQ 54.59375 16.890625 54.59375 28.609375 \nL 54.59375 72.90625 \nL 64.5 72.90625 \nL 64.5 27.390625 \nQ 64.5 13.140625 57.4375 5.859375 \nQ 50.390625 -1.421875 36.625 -1.421875 \nQ 22.796875 -1.421875 15.734375 5.859375 \nQ 8.6875 13.140625 8.6875 27.390625 \nz\n\" id=\"DejaVuSans-85\"/>\n        <path d=\"M -0.296875 72.90625 \nL 61.375 72.90625 \nL 61.375 64.59375 \nL 35.5 64.59375 \nL 35.5 0 \nL 25.59375 0 \nL 25.59375 64.59375 \nL -0.296875 64.59375 \nz\n\" id=\"DejaVuSans-84\"/>\n        <path d=\"M 9.8125 72.90625 \nL 55.90625 72.90625 \nL 55.90625 64.59375 \nL 19.671875 64.59375 \nL 19.671875 43.015625 \nL 54.390625 43.015625 \nL 54.390625 34.71875 \nL 19.671875 34.71875 \nL 19.671875 8.296875 \nL 56.78125 8.296875 \nL 56.78125 0 \nL 9.8125 0 \nz\n\" id=\"DejaVuSans-69\"/>\n        <path d=\"M 53.515625 70.515625 \nL 53.515625 60.890625 \nQ 47.90625 63.578125 42.921875 64.890625 \nQ 37.9375 66.21875 33.296875 66.21875 \nQ 25.25 66.21875 20.875 63.09375 \nQ 16.5 59.96875 16.5 54.203125 \nQ 16.5 49.359375 19.40625 46.890625 \nQ 22.3125 44.4375 30.421875 42.921875 \nL 36.375 41.703125 \nQ 47.40625 39.59375 52.65625 34.296875 \nQ 57.90625 29 57.90625 20.125 \nQ 57.90625 9.515625 50.796875 4.046875 \nQ 43.703125 -1.421875 29.984375 -1.421875 \nQ 24.8125 -1.421875 18.96875 -0.25 \nQ 13.140625 0.921875 6.890625 3.21875 \nL 6.890625 13.375 \nQ 12.890625 10.015625 18.65625 8.296875 \nQ 24.421875 6.59375 29.984375 6.59375 \nQ 38.421875 6.59375 43.015625 9.90625 \nQ 47.609375 13.234375 47.609375 19.390625 \nQ 47.609375 24.75 44.3125 27.78125 \nQ 41.015625 30.8125 33.5 32.328125 \nL 27.484375 33.5 \nQ 16.453125 35.6875 11.515625 40.375 \nQ 6.59375 45.0625 6.59375 53.421875 \nQ 6.59375 63.09375 13.40625 68.65625 \nQ 20.21875 74.21875 32.171875 74.21875 \nQ 37.3125 74.21875 42.625 73.28125 \nQ 47.953125 72.359375 53.515625 70.515625 \nz\n\" id=\"DejaVuSans-83\"/>\n       </defs>\n       <use xlink:href=\"#DejaVuSans-77\"/>\n       <use x=\"86.279297\" xlink:href=\"#DejaVuSans-73\"/>\n       <use x=\"115.771484\" xlink:href=\"#DejaVuSans-78\"/>\n       <use x=\"190.576172\" xlink:href=\"#DejaVuSans-85\"/>\n       <use x=\"263.769531\" xlink:href=\"#DejaVuSans-84\"/>\n       <use x=\"324.853516\" xlink:href=\"#DejaVuSans-69\"/>\n       <use x=\"388.037109\" xlink:href=\"#DejaVuSans-83\"/>\n      </g>\n     </g>\n    </g>\n   </g>\n   <g id=\"matplotlib.axis_2\">\n    <g id=\"ytick_1\">\n     <g id=\"line2d_2\">\n      <defs>\n       <path d=\"M 0 0 \nL -3.5 0 \n\" id=\"m10e4c7a980\" style=\"stroke:#000000;stroke-width:0.8;\"/>\n      </defs>\n      <g>\n       <use style=\"stroke:#000000;stroke-width:0.8;\" x=\"36.465625\" xlink:href=\"#m10e4c7a980\" y=\"333.65267\"/>\n      </g>\n     </g>\n     <g id=\"text_2\">\n      <!-- 8.00 -->\n      <g transform=\"translate(7.2 337.451889)scale(0.1 -0.1)\">\n       <defs>\n        <path d=\"M 31.78125 34.625 \nQ 24.75 34.625 20.71875 30.859375 \nQ 16.703125 27.09375 16.703125 20.515625 \nQ 16.703125 13.921875 20.71875 10.15625 \nQ 24.75 6.390625 31.78125 6.390625 \nQ 38.8125 6.390625 42.859375 10.171875 \nQ 46.921875 13.96875 46.921875 20.515625 \nQ 46.921875 27.09375 42.890625 30.859375 \nQ 38.875 34.625 31.78125 34.625 \nz\nM 21.921875 38.8125 \nQ 15.578125 40.375 12.03125 44.71875 \nQ 8.5 49.078125 8.5 55.328125 \nQ 8.5 64.0625 14.71875 69.140625 \nQ 20.953125 74.21875 31.78125 74.21875 \nQ 42.671875 74.21875 48.875 69.140625 \nQ 55.078125 64.0625 55.078125 55.328125 \nQ 55.078125 49.078125 51.53125 44.71875 \nQ 48 40.375 41.703125 38.8125 \nQ 48.828125 37.15625 52.796875 32.3125 \nQ 56.78125 27.484375 56.78125 20.515625 \nQ 56.78125 9.90625 50.3125 4.234375 \nQ 43.84375 -1.421875 31.78125 -1.421875 \nQ 19.734375 -1.421875 13.25 4.234375 \nQ 6.78125 9.90625 6.78125 20.515625 \nQ 6.78125 27.484375 10.78125 32.3125 \nQ 14.796875 37.15625 21.921875 38.8125 \nz\nM 18.3125 54.390625 \nQ 18.3125 48.734375 21.84375 45.5625 \nQ 25.390625 42.390625 31.78125 42.390625 \nQ 38.140625 42.390625 41.71875 45.5625 \nQ 45.3125 48.734375 45.3125 54.390625 \nQ 45.3125 60.0625 41.71875 63.234375 \nQ 38.140625 66.40625 31.78125 66.40625 \nQ 25.390625 66.40625 21.84375 63.234375 \nQ 18.3125 60.0625 18.3125 54.390625 \nz\n\" id=\"DejaVuSans-56\"/>\n        <path d=\"M 10.6875 12.40625 \nL 21 12.40625 \nL 21 0 \nL 10.6875 0 \nz\n\" id=\"DejaVuSans-46\"/>\n        <path d=\"M 31.78125 66.40625 \nQ 24.171875 66.40625 20.328125 58.90625 \nQ 16.5 51.421875 16.5 36.375 \nQ 16.5 21.390625 20.328125 13.890625 \nQ 24.171875 6.390625 31.78125 6.390625 \nQ 39.453125 6.390625 43.28125 13.890625 \nQ 47.125 21.390625 47.125 36.375 \nQ 47.125 51.421875 43.28125 58.90625 \nQ 39.453125 66.40625 31.78125 66.40625 \nz\nM 31.78125 74.21875 \nQ 44.046875 74.21875 50.515625 64.515625 \nQ 56.984375 54.828125 56.984375 36.375 \nQ 56.984375 17.96875 50.515625 8.265625 \nQ 44.046875 -1.421875 31.78125 -1.421875 \nQ 19.53125 -1.421875 13.0625 8.265625 \nQ 6.59375 17.96875 6.59375 36.375 \nQ 6.59375 54.828125 13.0625 64.515625 \nQ 19.53125 74.21875 31.78125 74.21875 \nz\n\" id=\"DejaVuSans-48\"/>\n       </defs>\n       <use xlink:href=\"#DejaVuSans-56\"/>\n       <use x=\"63.623047\" xlink:href=\"#DejaVuSans-46\"/>\n       <use x=\"95.410156\" xlink:href=\"#DejaVuSans-48\"/>\n       <use x=\"159.033203\" xlink:href=\"#DejaVuSans-48\"/>\n      </g>\n     </g>\n    </g>\n    <g id=\"ytick_2\">\n     <g id=\"line2d_3\">\n      <g>\n       <use style=\"stroke:#000000;stroke-width:0.8;\" x=\"36.465625\" xlink:href=\"#m10e4c7a980\" y=\"294.638316\"/>\n      </g>\n     </g>\n     <g id=\"text_3\">\n      <!-- 8.05 -->\n      <g transform=\"translate(7.2 298.437535)scale(0.1 -0.1)\">\n       <defs>\n        <path d=\"M 10.796875 72.90625 \nL 49.515625 72.90625 \nL 49.515625 64.59375 \nL 19.828125 64.59375 \nL 19.828125 46.734375 \nQ 21.96875 47.46875 24.109375 47.828125 \nQ 26.265625 48.1875 28.421875 48.1875 \nQ 40.625 48.1875 47.75 41.5 \nQ 54.890625 34.8125 54.890625 23.390625 \nQ 54.890625 11.625 47.5625 5.09375 \nQ 40.234375 -1.421875 26.90625 -1.421875 \nQ 22.3125 -1.421875 17.546875 -0.640625 \nQ 12.796875 0.140625 7.71875 1.703125 \nL 7.71875 11.625 \nQ 12.109375 9.234375 16.796875 8.0625 \nQ 21.484375 6.890625 26.703125 6.890625 \nQ 35.15625 6.890625 40.078125 11.328125 \nQ 45.015625 15.765625 45.015625 23.390625 \nQ 45.015625 31 40.078125 35.4375 \nQ 35.15625 39.890625 26.703125 39.890625 \nQ 22.75 39.890625 18.8125 39.015625 \nQ 14.890625 38.140625 10.796875 36.28125 \nz\n\" id=\"DejaVuSans-53\"/>\n       </defs>\n       <use xlink:href=\"#DejaVuSans-56\"/>\n       <use x=\"63.623047\" xlink:href=\"#DejaVuSans-46\"/>\n       <use x=\"95.410156\" xlink:href=\"#DejaVuSans-48\"/>\n       <use x=\"159.033203\" xlink:href=\"#DejaVuSans-53\"/>\n      </g>\n     </g>\n    </g>\n    <g id=\"ytick_3\">\n     <g id=\"line2d_4\">\n      <g>\n       <use style=\"stroke:#000000;stroke-width:0.8;\" x=\"36.465625\" xlink:href=\"#m10e4c7a980\" y=\"255.623962\"/>\n      </g>\n     </g>\n     <g id=\"text_4\">\n      <!-- 8.10 -->\n      <g transform=\"translate(7.2 259.423181)scale(0.1 -0.1)\">\n       <defs>\n        <path d=\"M 12.40625 8.296875 \nL 28.515625 8.296875 \nL 28.515625 63.921875 \nL 10.984375 60.40625 \nL 10.984375 69.390625 \nL 28.421875 72.90625 \nL 38.28125 72.90625 \nL 38.28125 8.296875 \nL 54.390625 8.296875 \nL 54.390625 0 \nL 12.40625 0 \nz\n\" id=\"DejaVuSans-49\"/>\n       </defs>\n       <use xlink:href=\"#DejaVuSans-56\"/>\n       <use x=\"63.623047\" xlink:href=\"#DejaVuSans-46\"/>\n       <use x=\"95.410156\" xlink:href=\"#DejaVuSans-49\"/>\n       <use x=\"159.033203\" xlink:href=\"#DejaVuSans-48\"/>\n      </g>\n     </g>\n    </g>\n    <g id=\"ytick_4\">\n     <g id=\"line2d_5\">\n      <g>\n       <use style=\"stroke:#000000;stroke-width:0.8;\" x=\"36.465625\" xlink:href=\"#m10e4c7a980\" y=\"216.609608\"/>\n      </g>\n     </g>\n     <g id=\"text_5\">\n      <!-- 8.15 -->\n      <g transform=\"translate(7.2 220.408827)scale(0.1 -0.1)\">\n       <use xlink:href=\"#DejaVuSans-56\"/>\n       <use x=\"63.623047\" xlink:href=\"#DejaVuSans-46\"/>\n       <use x=\"95.410156\" xlink:href=\"#DejaVuSans-49\"/>\n       <use x=\"159.033203\" xlink:href=\"#DejaVuSans-53\"/>\n      </g>\n     </g>\n    </g>\n    <g id=\"ytick_5\">\n     <g id=\"line2d_6\">\n      <g>\n       <use style=\"stroke:#000000;stroke-width:0.8;\" x=\"36.465625\" xlink:href=\"#m10e4c7a980\" y=\"177.595254\"/>\n      </g>\n     </g>\n     <g id=\"text_6\">\n      <!-- 8.20 -->\n      <g transform=\"translate(7.2 181.394473)scale(0.1 -0.1)\">\n       <defs>\n        <path d=\"M 19.1875 8.296875 \nL 53.609375 8.296875 \nL 53.609375 0 \nL 7.328125 0 \nL 7.328125 8.296875 \nQ 12.9375 14.109375 22.625 23.890625 \nQ 32.328125 33.6875 34.8125 36.53125 \nQ 39.546875 41.84375 41.421875 45.53125 \nQ 43.3125 49.21875 43.3125 52.78125 \nQ 43.3125 58.59375 39.234375 62.25 \nQ 35.15625 65.921875 28.609375 65.921875 \nQ 23.96875 65.921875 18.8125 64.3125 \nQ 13.671875 62.703125 7.8125 59.421875 \nL 7.8125 69.390625 \nQ 13.765625 71.78125 18.9375 73 \nQ 24.125 74.21875 28.421875 74.21875 \nQ 39.75 74.21875 46.484375 68.546875 \nQ 53.21875 62.890625 53.21875 53.421875 \nQ 53.21875 48.921875 51.53125 44.890625 \nQ 49.859375 40.875 45.40625 35.40625 \nQ 44.1875 33.984375 37.640625 27.21875 \nQ 31.109375 20.453125 19.1875 8.296875 \nz\n\" id=\"DejaVuSans-50\"/>\n       </defs>\n       <use xlink:href=\"#DejaVuSans-56\"/>\n       <use x=\"63.623047\" xlink:href=\"#DejaVuSans-46\"/>\n       <use x=\"95.410156\" xlink:href=\"#DejaVuSans-50\"/>\n       <use x=\"159.033203\" xlink:href=\"#DejaVuSans-48\"/>\n      </g>\n     </g>\n    </g>\n    <g id=\"ytick_6\">\n     <g id=\"line2d_7\">\n      <g>\n       <use style=\"stroke:#000000;stroke-width:0.8;\" x=\"36.465625\" xlink:href=\"#m10e4c7a980\" y=\"138.5809\"/>\n      </g>\n     </g>\n     <g id=\"text_7\">\n      <!-- 8.25 -->\n      <g transform=\"translate(7.2 142.380119)scale(0.1 -0.1)\">\n       <use xlink:href=\"#DejaVuSans-56\"/>\n       <use x=\"63.623047\" xlink:href=\"#DejaVuSans-46\"/>\n       <use x=\"95.410156\" xlink:href=\"#DejaVuSans-50\"/>\n       <use x=\"159.033203\" xlink:href=\"#DejaVuSans-53\"/>\n      </g>\n     </g>\n    </g>\n    <g id=\"ytick_7\">\n     <g id=\"line2d_8\">\n      <g>\n       <use style=\"stroke:#000000;stroke-width:0.8;\" x=\"36.465625\" xlink:href=\"#m10e4c7a980\" y=\"99.566546\"/>\n      </g>\n     </g>\n     <g id=\"text_8\">\n      <!-- 8.30 -->\n      <g transform=\"translate(7.2 103.365765)scale(0.1 -0.1)\">\n       <defs>\n        <path d=\"M 40.578125 39.3125 \nQ 47.65625 37.796875 51.625 33 \nQ 55.609375 28.21875 55.609375 21.1875 \nQ 55.609375 10.40625 48.1875 4.484375 \nQ 40.765625 -1.421875 27.09375 -1.421875 \nQ 22.515625 -1.421875 17.65625 -0.515625 \nQ 12.796875 0.390625 7.625 2.203125 \nL 7.625 11.71875 \nQ 11.71875 9.328125 16.59375 8.109375 \nQ 21.484375 6.890625 26.8125 6.890625 \nQ 36.078125 6.890625 40.9375 10.546875 \nQ 45.796875 14.203125 45.796875 21.1875 \nQ 45.796875 27.640625 41.28125 31.265625 \nQ 36.765625 34.90625 28.71875 34.90625 \nL 20.21875 34.90625 \nL 20.21875 43.015625 \nL 29.109375 43.015625 \nQ 36.375 43.015625 40.234375 45.921875 \nQ 44.09375 48.828125 44.09375 54.296875 \nQ 44.09375 59.90625 40.109375 62.90625 \nQ 36.140625 65.921875 28.71875 65.921875 \nQ 24.65625 65.921875 20.015625 65.03125 \nQ 15.375 64.15625 9.8125 62.3125 \nL 9.8125 71.09375 \nQ 15.4375 72.65625 20.34375 73.4375 \nQ 25.25 74.21875 29.59375 74.21875 \nQ 40.828125 74.21875 47.359375 69.109375 \nQ 53.90625 64.015625 53.90625 55.328125 \nQ 53.90625 49.265625 50.4375 45.09375 \nQ 46.96875 40.921875 40.578125 39.3125 \nz\n\" id=\"DejaVuSans-51\"/>\n       </defs>\n       <use xlink:href=\"#DejaVuSans-56\"/>\n       <use x=\"63.623047\" xlink:href=\"#DejaVuSans-46\"/>\n       <use x=\"95.410156\" xlink:href=\"#DejaVuSans-51\"/>\n       <use x=\"159.033203\" xlink:href=\"#DejaVuSans-48\"/>\n      </g>\n     </g>\n    </g>\n    <g id=\"ytick_8\">\n     <g id=\"line2d_9\">\n      <g>\n       <use style=\"stroke:#000000;stroke-width:0.8;\" x=\"36.465625\" xlink:href=\"#m10e4c7a980\" y=\"60.552192\"/>\n      </g>\n     </g>\n     <g id=\"text_9\">\n      <!-- 8.35 -->\n      <g transform=\"translate(7.2 64.351411)scale(0.1 -0.1)\">\n       <use xlink:href=\"#DejaVuSans-56\"/>\n       <use x=\"63.623047\" xlink:href=\"#DejaVuSans-46\"/>\n       <use x=\"95.410156\" xlink:href=\"#DejaVuSans-51\"/>\n       <use x=\"159.033203\" xlink:href=\"#DejaVuSans-53\"/>\n      </g>\n     </g>\n    </g>\n   </g>\n   <g id=\"line2d_10\">\n    <path clip-path=\"url(#p6ea56d36ff)\" d=\"M 273.615625 310.244058 \nL 357.315625 310.244058 \nL 357.315625 253.673245 \nL 273.615625 253.673245 \nL 273.615625 310.244058 \n\" style=\"fill:none;stroke:#1f77b4;stroke-linecap:square;\"/>\n   </g>\n   <g id=\"line2d_11\">\n    <path clip-path=\"url(#p6ea56d36ff)\" d=\"M 315.465625 310.244058 \nL 315.465625 333.65267 \n\" style=\"fill:none;stroke:#1f77b4;stroke-linecap:square;\"/>\n   </g>\n   <g id=\"line2d_12\">\n    <path clip-path=\"url(#p6ea56d36ff)\" d=\"M 315.465625 253.673245 \nL 315.465625 177.595254 \n\" style=\"fill:none;stroke:#1f77b4;stroke-linecap:square;\"/>\n   </g>\n   <g id=\"line2d_13\">\n    <path clip-path=\"url(#p6ea56d36ff)\" d=\"M 294.540625 333.65267 \nL 336.390625 333.65267 \n\" style=\"fill:none;stroke:#000000;stroke-linecap:square;\"/>\n   </g>\n   <g id=\"line2d_14\">\n    <path clip-path=\"url(#p6ea56d36ff)\" d=\"M 294.540625 177.595254 \nL 336.390625 177.595254 \n\" style=\"fill:none;stroke:#000000;stroke-linecap:square;\"/>\n   </g>\n   <g id=\"line2d_15\">\n    <defs>\n     <path d=\"M 0 3 \nC 0.795609 3 1.55874 2.683901 2.12132 2.12132 \nC 2.683901 1.55874 3 0.795609 3 0 \nC 3 -0.795609 2.683901 -1.55874 2.12132 -2.12132 \nC 1.55874 -2.683901 0.795609 -3 0 -3 \nC -0.795609 -3 -1.55874 -2.683901 -2.12132 -2.12132 \nC -2.683901 -1.55874 -3 -0.795609 -3 0 \nC -3 0.795609 -2.683901 1.55874 -2.12132 2.12132 \nC -1.55874 2.683901 -0.795609 3 0 3 \nz\n\" id=\"m494e9fb4fe\" style=\"stroke:#000000;\"/>\n    </defs>\n    <g clip-path=\"url(#p6ea56d36ff)\">\n     <use style=\"fill-opacity:0;stroke:#000000;\" x=\"315.465625\" xlink:href=\"#m494e9fb4fe\" y=\"37.14358\"/>\n     <use style=\"fill-opacity:0;stroke:#000000;\" x=\"315.465625\" xlink:href=\"#m494e9fb4fe\" y=\"91.763675\"/>\n    </g>\n   </g>\n   <g id=\"line2d_16\">\n    <path clip-path=\"url(#p6ea56d36ff)\" d=\"M 273.615625 286.835446 \nL 357.315625 286.835446 \n\" style=\"fill:none;stroke:#2ca02c;stroke-linecap:square;\"/>\n   </g>\n   <g id=\"patch_3\">\n    <path d=\"M 36.465625 348.478125 \nL 36.465625 22.318125 \n\" style=\"fill:none;stroke:#000000;stroke-linecap:square;stroke-linejoin:miter;stroke-width:0.8;\"/>\n   </g>\n   <g id=\"patch_4\">\n    <path d=\"M 594.465625 348.478125 \nL 594.465625 22.318125 \n\" style=\"fill:none;stroke:#000000;stroke-linecap:square;stroke-linejoin:miter;stroke-width:0.8;\"/>\n   </g>\n   <g id=\"patch_5\">\n    <path d=\"M 36.465625 348.478125 \nL 594.465625 348.478125 \n\" style=\"fill:none;stroke:#000000;stroke-linecap:square;stroke-linejoin:miter;stroke-width:0.8;\"/>\n   </g>\n   <g id=\"patch_6\">\n    <path d=\"M 36.465625 22.318125 \nL 594.465625 22.318125 \n\" style=\"fill:none;stroke:#000000;stroke-linecap:square;stroke-linejoin:miter;stroke-width:0.8;\"/>\n   </g>\n   <g id=\"text_10\">\n    <!-- Boxplot of number of talking minutes per speaker -->\n    <g transform=\"translate(166.061875 16.318125)scale(0.12 -0.12)\">\n     <defs>\n      <path d=\"M 19.671875 34.8125 \nL 19.671875 8.109375 \nL 35.5 8.109375 \nQ 43.453125 8.109375 47.28125 11.40625 \nQ 51.125 14.703125 51.125 21.484375 \nQ 51.125 28.328125 47.28125 31.5625 \nQ 43.453125 34.8125 35.5 34.8125 \nz\nM 19.671875 64.796875 \nL 19.671875 42.828125 \nL 34.28125 42.828125 \nQ 41.5 42.828125 45.03125 45.53125 \nQ 48.578125 48.25 48.578125 53.8125 \nQ 48.578125 59.328125 45.03125 62.0625 \nQ 41.5 64.796875 34.28125 64.796875 \nz\nM 9.8125 72.90625 \nL 35.015625 72.90625 \nQ 46.296875 72.90625 52.390625 68.21875 \nQ 58.5 63.53125 58.5 54.890625 \nQ 58.5 48.1875 55.375 44.234375 \nQ 52.25 40.28125 46.1875 39.3125 \nQ 53.46875 37.75 57.5 32.78125 \nQ 61.53125 27.828125 61.53125 20.40625 \nQ 61.53125 10.640625 54.890625 5.3125 \nQ 48.25 0 35.984375 0 \nL 9.8125 0 \nz\n\" id=\"DejaVuSans-66\"/>\n      <path d=\"M 30.609375 48.390625 \nQ 23.390625 48.390625 19.1875 42.75 \nQ 14.984375 37.109375 14.984375 27.296875 \nQ 14.984375 17.484375 19.15625 11.84375 \nQ 23.34375 6.203125 30.609375 6.203125 \nQ 37.796875 6.203125 41.984375 11.859375 \nQ 46.1875 17.53125 46.1875 27.296875 \nQ 46.1875 37.015625 41.984375 42.703125 \nQ 37.796875 48.390625 30.609375 48.390625 \nz\nM 30.609375 56 \nQ 42.328125 56 49.015625 48.375 \nQ 55.71875 40.765625 55.71875 27.296875 \nQ 55.71875 13.875 49.015625 6.21875 \nQ 42.328125 -1.421875 30.609375 -1.421875 \nQ 18.84375 -1.421875 12.171875 6.21875 \nQ 5.515625 13.875 5.515625 27.296875 \nQ 5.515625 40.765625 12.171875 48.375 \nQ 18.84375 56 30.609375 56 \nz\n\" id=\"DejaVuSans-111\"/>\n      <path d=\"M 54.890625 54.6875 \nL 35.109375 28.078125 \nL 55.90625 0 \nL 45.3125 0 \nL 29.390625 21.484375 \nL 13.484375 0 \nL 2.875 0 \nL 24.125 28.609375 \nL 4.6875 54.6875 \nL 15.28125 54.6875 \nL 29.78125 35.203125 \nL 44.28125 54.6875 \nz\n\" id=\"DejaVuSans-120\"/>\n      <path d=\"M 18.109375 8.203125 \nL 18.109375 -20.796875 \nL 9.078125 -20.796875 \nL 9.078125 54.6875 \nL 18.109375 54.6875 \nL 18.109375 46.390625 \nQ 20.953125 51.265625 25.265625 53.625 \nQ 29.59375 56 35.59375 56 \nQ 45.5625 56 51.78125 48.09375 \nQ 58.015625 40.1875 58.015625 27.296875 \nQ 58.015625 14.40625 51.78125 6.484375 \nQ 45.5625 -1.421875 35.59375 -1.421875 \nQ 29.59375 -1.421875 25.265625 0.953125 \nQ 20.953125 3.328125 18.109375 8.203125 \nz\nM 48.6875 27.296875 \nQ 48.6875 37.203125 44.609375 42.84375 \nQ 40.53125 48.484375 33.40625 48.484375 \nQ 26.265625 48.484375 22.1875 42.84375 \nQ 18.109375 37.203125 18.109375 27.296875 \nQ 18.109375 17.390625 22.1875 11.75 \nQ 26.265625 6.109375 33.40625 6.109375 \nQ 40.53125 6.109375 44.609375 11.75 \nQ 48.6875 17.390625 48.6875 27.296875 \nz\n\" id=\"DejaVuSans-112\"/>\n      <path d=\"M 9.421875 75.984375 \nL 18.40625 75.984375 \nL 18.40625 0 \nL 9.421875 0 \nz\n\" id=\"DejaVuSans-108\"/>\n      <path d=\"M 18.3125 70.21875 \nL 18.3125 54.6875 \nL 36.8125 54.6875 \nL 36.8125 47.703125 \nL 18.3125 47.703125 \nL 18.3125 18.015625 \nQ 18.3125 11.328125 20.140625 9.421875 \nQ 21.96875 7.515625 27.59375 7.515625 \nL 36.8125 7.515625 \nL 36.8125 0 \nL 27.59375 0 \nQ 17.1875 0 13.234375 3.875 \nQ 9.28125 7.765625 9.28125 18.015625 \nL 9.28125 47.703125 \nL 2.6875 47.703125 \nL 2.6875 54.6875 \nL 9.28125 54.6875 \nL 9.28125 70.21875 \nz\n\" id=\"DejaVuSans-116\"/>\n      <path id=\"DejaVuSans-32\"/>\n      <path d=\"M 37.109375 75.984375 \nL 37.109375 68.5 \nL 28.515625 68.5 \nQ 23.6875 68.5 21.796875 66.546875 \nQ 19.921875 64.59375 19.921875 59.515625 \nL 19.921875 54.6875 \nL 34.71875 54.6875 \nL 34.71875 47.703125 \nL 19.921875 47.703125 \nL 19.921875 0 \nL 10.890625 0 \nL 10.890625 47.703125 \nL 2.296875 47.703125 \nL 2.296875 54.6875 \nL 10.890625 54.6875 \nL 10.890625 58.5 \nQ 10.890625 67.625 15.140625 71.796875 \nQ 19.390625 75.984375 28.609375 75.984375 \nz\n\" id=\"DejaVuSans-102\"/>\n      <path d=\"M 54.890625 33.015625 \nL 54.890625 0 \nL 45.90625 0 \nL 45.90625 32.71875 \nQ 45.90625 40.484375 42.875 44.328125 \nQ 39.84375 48.1875 33.796875 48.1875 \nQ 26.515625 48.1875 22.3125 43.546875 \nQ 18.109375 38.921875 18.109375 30.90625 \nL 18.109375 0 \nL 9.078125 0 \nL 9.078125 54.6875 \nL 18.109375 54.6875 \nL 18.109375 46.1875 \nQ 21.34375 51.125 25.703125 53.5625 \nQ 30.078125 56 35.796875 56 \nQ 45.21875 56 50.046875 50.171875 \nQ 54.890625 44.34375 54.890625 33.015625 \nz\n\" id=\"DejaVuSans-110\"/>\n      <path d=\"M 8.5 21.578125 \nL 8.5 54.6875 \nL 17.484375 54.6875 \nL 17.484375 21.921875 \nQ 17.484375 14.15625 20.5 10.265625 \nQ 23.53125 6.390625 29.59375 6.390625 \nQ 36.859375 6.390625 41.078125 11.03125 \nQ 45.3125 15.671875 45.3125 23.6875 \nL 45.3125 54.6875 \nL 54.296875 54.6875 \nL 54.296875 0 \nL 45.3125 0 \nL 45.3125 8.40625 \nQ 42.046875 3.421875 37.71875 1 \nQ 33.40625 -1.421875 27.6875 -1.421875 \nQ 18.265625 -1.421875 13.375 4.4375 \nQ 8.5 10.296875 8.5 21.578125 \nz\nM 31.109375 56 \nz\n\" id=\"DejaVuSans-117\"/>\n      <path d=\"M 52 44.1875 \nQ 55.375 50.25 60.0625 53.125 \nQ 64.75 56 71.09375 56 \nQ 79.640625 56 84.28125 50.015625 \nQ 88.921875 44.046875 88.921875 33.015625 \nL 88.921875 0 \nL 79.890625 0 \nL 79.890625 32.71875 \nQ 79.890625 40.578125 77.09375 44.375 \nQ 74.3125 48.1875 68.609375 48.1875 \nQ 61.625 48.1875 57.5625 43.546875 \nQ 53.515625 38.921875 53.515625 30.90625 \nL 53.515625 0 \nL 44.484375 0 \nL 44.484375 32.71875 \nQ 44.484375 40.625 41.703125 44.40625 \nQ 38.921875 48.1875 33.109375 48.1875 \nQ 26.21875 48.1875 22.15625 43.53125 \nQ 18.109375 38.875 18.109375 30.90625 \nL 18.109375 0 \nL 9.078125 0 \nL 9.078125 54.6875 \nL 18.109375 54.6875 \nL 18.109375 46.1875 \nQ 21.1875 51.21875 25.484375 53.609375 \nQ 29.78125 56 35.6875 56 \nQ 41.65625 56 45.828125 52.96875 \nQ 50 49.953125 52 44.1875 \nz\n\" id=\"DejaVuSans-109\"/>\n      <path d=\"M 48.6875 27.296875 \nQ 48.6875 37.203125 44.609375 42.84375 \nQ 40.53125 48.484375 33.40625 48.484375 \nQ 26.265625 48.484375 22.1875 42.84375 \nQ 18.109375 37.203125 18.109375 27.296875 \nQ 18.109375 17.390625 22.1875 11.75 \nQ 26.265625 6.109375 33.40625 6.109375 \nQ 40.53125 6.109375 44.609375 11.75 \nQ 48.6875 17.390625 48.6875 27.296875 \nz\nM 18.109375 46.390625 \nQ 20.953125 51.265625 25.265625 53.625 \nQ 29.59375 56 35.59375 56 \nQ 45.5625 56 51.78125 48.09375 \nQ 58.015625 40.1875 58.015625 27.296875 \nQ 58.015625 14.40625 51.78125 6.484375 \nQ 45.5625 -1.421875 35.59375 -1.421875 \nQ 29.59375 -1.421875 25.265625 0.953125 \nQ 20.953125 3.328125 18.109375 8.203125 \nL 18.109375 0 \nL 9.078125 0 \nL 9.078125 75.984375 \nL 18.109375 75.984375 \nz\n\" id=\"DejaVuSans-98\"/>\n      <path d=\"M 56.203125 29.59375 \nL 56.203125 25.203125 \nL 14.890625 25.203125 \nQ 15.484375 15.921875 20.484375 11.0625 \nQ 25.484375 6.203125 34.421875 6.203125 \nQ 39.59375 6.203125 44.453125 7.46875 \nQ 49.3125 8.734375 54.109375 11.28125 \nL 54.109375 2.78125 \nQ 49.265625 0.734375 44.1875 -0.34375 \nQ 39.109375 -1.421875 33.890625 -1.421875 \nQ 20.796875 -1.421875 13.15625 6.1875 \nQ 5.515625 13.8125 5.515625 26.8125 \nQ 5.515625 40.234375 12.765625 48.109375 \nQ 20.015625 56 32.328125 56 \nQ 43.359375 56 49.78125 48.890625 \nQ 56.203125 41.796875 56.203125 29.59375 \nz\nM 47.21875 32.234375 \nQ 47.125 39.59375 43.09375 43.984375 \nQ 39.0625 48.390625 32.421875 48.390625 \nQ 24.90625 48.390625 20.390625 44.140625 \nQ 15.875 39.890625 15.1875 32.171875 \nz\n\" id=\"DejaVuSans-101\"/>\n      <path d=\"M 41.109375 46.296875 \nQ 39.59375 47.171875 37.8125 47.578125 \nQ 36.03125 48 33.890625 48 \nQ 26.265625 48 22.1875 43.046875 \nQ 18.109375 38.09375 18.109375 28.8125 \nL 18.109375 0 \nL 9.078125 0 \nL 9.078125 54.6875 \nL 18.109375 54.6875 \nL 18.109375 46.1875 \nQ 20.953125 51.171875 25.484375 53.578125 \nQ 30.03125 56 36.53125 56 \nQ 37.453125 56 38.578125 55.875 \nQ 39.703125 55.765625 41.0625 55.515625 \nz\n\" id=\"DejaVuSans-114\"/>\n      <path d=\"M 34.28125 27.484375 \nQ 23.390625 27.484375 19.1875 25 \nQ 14.984375 22.515625 14.984375 16.5 \nQ 14.984375 11.71875 18.140625 8.90625 \nQ 21.296875 6.109375 26.703125 6.109375 \nQ 34.1875 6.109375 38.703125 11.40625 \nQ 43.21875 16.703125 43.21875 25.484375 \nL 43.21875 27.484375 \nz\nM 52.203125 31.203125 \nL 52.203125 0 \nL 43.21875 0 \nL 43.21875 8.296875 \nQ 40.140625 3.328125 35.546875 0.953125 \nQ 30.953125 -1.421875 24.3125 -1.421875 \nQ 15.921875 -1.421875 10.953125 3.296875 \nQ 6 8.015625 6 15.921875 \nQ 6 25.140625 12.171875 29.828125 \nQ 18.359375 34.515625 30.609375 34.515625 \nL 43.21875 34.515625 \nL 43.21875 35.40625 \nQ 43.21875 41.609375 39.140625 45 \nQ 35.0625 48.390625 27.6875 48.390625 \nQ 23 48.390625 18.546875 47.265625 \nQ 14.109375 46.140625 10.015625 43.890625 \nL 10.015625 52.203125 \nQ 14.9375 54.109375 19.578125 55.046875 \nQ 24.21875 56 28.609375 56 \nQ 40.484375 56 46.34375 49.84375 \nQ 52.203125 43.703125 52.203125 31.203125 \nz\n\" id=\"DejaVuSans-97\"/>\n      <path d=\"M 9.078125 75.984375 \nL 18.109375 75.984375 \nL 18.109375 31.109375 \nL 44.921875 54.6875 \nL 56.390625 54.6875 \nL 27.390625 29.109375 \nL 57.625 0 \nL 45.90625 0 \nL 18.109375 26.703125 \nL 18.109375 0 \nL 9.078125 0 \nz\n\" id=\"DejaVuSans-107\"/>\n      <path d=\"M 9.421875 54.6875 \nL 18.40625 54.6875 \nL 18.40625 0 \nL 9.421875 0 \nz\nM 9.421875 75.984375 \nL 18.40625 75.984375 \nL 18.40625 64.59375 \nL 9.421875 64.59375 \nz\n\" id=\"DejaVuSans-105\"/>\n      <path d=\"M 45.40625 27.984375 \nQ 45.40625 37.75 41.375 43.109375 \nQ 37.359375 48.484375 30.078125 48.484375 \nQ 22.859375 48.484375 18.828125 43.109375 \nQ 14.796875 37.75 14.796875 27.984375 \nQ 14.796875 18.265625 18.828125 12.890625 \nQ 22.859375 7.515625 30.078125 7.515625 \nQ 37.359375 7.515625 41.375 12.890625 \nQ 45.40625 18.265625 45.40625 27.984375 \nz\nM 54.390625 6.78125 \nQ 54.390625 -7.171875 48.1875 -13.984375 \nQ 42 -20.796875 29.203125 -20.796875 \nQ 24.46875 -20.796875 20.265625 -20.09375 \nQ 16.0625 -19.390625 12.109375 -17.921875 \nL 12.109375 -9.1875 \nQ 16.0625 -11.328125 19.921875 -12.34375 \nQ 23.78125 -13.375 27.78125 -13.375 \nQ 36.625 -13.375 41.015625 -8.765625 \nQ 45.40625 -4.15625 45.40625 5.171875 \nL 45.40625 9.625 \nQ 42.625 4.78125 38.28125 2.390625 \nQ 33.9375 0 27.875 0 \nQ 17.828125 0 11.671875 7.65625 \nQ 5.515625 15.328125 5.515625 27.984375 \nQ 5.515625 40.671875 11.671875 48.328125 \nQ 17.828125 56 27.875 56 \nQ 33.9375 56 38.28125 53.609375 \nQ 42.625 51.21875 45.40625 46.390625 \nL 45.40625 54.6875 \nL 54.390625 54.6875 \nz\n\" id=\"DejaVuSans-103\"/>\n      <path d=\"M 44.28125 53.078125 \nL 44.28125 44.578125 \nQ 40.484375 46.53125 36.375 47.5 \nQ 32.28125 48.484375 27.875 48.484375 \nQ 21.1875 48.484375 17.84375 46.4375 \nQ 14.5 44.390625 14.5 40.28125 \nQ 14.5 37.15625 16.890625 35.375 \nQ 19.28125 33.59375 26.515625 31.984375 \nL 29.59375 31.296875 \nQ 39.15625 29.25 43.1875 25.515625 \nQ 47.21875 21.78125 47.21875 15.09375 \nQ 47.21875 7.46875 41.1875 3.015625 \nQ 35.15625 -1.421875 24.609375 -1.421875 \nQ 20.21875 -1.421875 15.453125 -0.5625 \nQ 10.6875 0.296875 5.421875 2 \nL 5.421875 11.28125 \nQ 10.40625 8.6875 15.234375 7.390625 \nQ 20.0625 6.109375 24.8125 6.109375 \nQ 31.15625 6.109375 34.5625 8.28125 \nQ 37.984375 10.453125 37.984375 14.40625 \nQ 37.984375 18.0625 35.515625 20.015625 \nQ 33.0625 21.96875 24.703125 23.78125 \nL 21.578125 24.515625 \nQ 13.234375 26.265625 9.515625 29.90625 \nQ 5.8125 33.546875 5.8125 39.890625 \nQ 5.8125 47.609375 11.28125 51.796875 \nQ 16.75 56 26.8125 56 \nQ 31.78125 56 36.171875 55.265625 \nQ 40.578125 54.546875 44.28125 53.078125 \nz\n\" id=\"DejaVuSans-115\"/>\n     </defs>\n     <use xlink:href=\"#DejaVuSans-66\"/>\n     <use x=\"68.603516\" xlink:href=\"#DejaVuSans-111\"/>\n     <use x=\"126.660156\" xlink:href=\"#DejaVuSans-120\"/>\n     <use x=\"185.839844\" xlink:href=\"#DejaVuSans-112\"/>\n     <use x=\"249.316406\" xlink:href=\"#DejaVuSans-108\"/>\n     <use x=\"277.099609\" xlink:href=\"#DejaVuSans-111\"/>\n     <use x=\"338.28125\" xlink:href=\"#DejaVuSans-116\"/>\n     <use x=\"377.490234\" xlink:href=\"#DejaVuSans-32\"/>\n     <use x=\"409.277344\" xlink:href=\"#DejaVuSans-111\"/>\n     <use x=\"470.458984\" xlink:href=\"#DejaVuSans-102\"/>\n     <use x=\"505.664062\" xlink:href=\"#DejaVuSans-32\"/>\n     <use x=\"537.451172\" xlink:href=\"#DejaVuSans-110\"/>\n     <use x=\"600.830078\" xlink:href=\"#DejaVuSans-117\"/>\n     <use x=\"664.208984\" xlink:href=\"#DejaVuSans-109\"/>\n     <use x=\"761.621094\" xlink:href=\"#DejaVuSans-98\"/>\n     <use x=\"825.097656\" xlink:href=\"#DejaVuSans-101\"/>\n     <use x=\"886.621094\" xlink:href=\"#DejaVuSans-114\"/>\n     <use x=\"927.734375\" xlink:href=\"#DejaVuSans-32\"/>\n     <use x=\"959.521484\" xlink:href=\"#DejaVuSans-111\"/>\n     <use x=\"1020.703125\" xlink:href=\"#DejaVuSans-102\"/>\n     <use x=\"1055.908203\" xlink:href=\"#DejaVuSans-32\"/>\n     <use x=\"1087.695312\" xlink:href=\"#DejaVuSans-116\"/>\n     <use x=\"1126.904297\" xlink:href=\"#DejaVuSans-97\"/>\n     <use x=\"1188.183594\" xlink:href=\"#DejaVuSans-108\"/>\n     <use x=\"1215.966797\" xlink:href=\"#DejaVuSans-107\"/>\n     <use x=\"1273.876953\" xlink:href=\"#DejaVuSans-105\"/>\n     <use x=\"1301.660156\" xlink:href=\"#DejaVuSans-110\"/>\n     <use x=\"1365.039062\" xlink:href=\"#DejaVuSans-103\"/>\n     <use x=\"1428.515625\" xlink:href=\"#DejaVuSans-32\"/>\n     <use x=\"1460.302734\" xlink:href=\"#DejaVuSans-109\"/>\n     <use x=\"1557.714844\" xlink:href=\"#DejaVuSans-105\"/>\n     <use x=\"1585.498047\" xlink:href=\"#DejaVuSans-110\"/>\n     <use x=\"1648.876953\" xlink:href=\"#DejaVuSans-117\"/>\n     <use x=\"1712.255859\" xlink:href=\"#DejaVuSans-116\"/>\n     <use x=\"1751.464844\" xlink:href=\"#DejaVuSans-101\"/>\n     <use x=\"1812.988281\" xlink:href=\"#DejaVuSans-115\"/>\n     <use x=\"1865.087891\" xlink:href=\"#DejaVuSans-32\"/>\n     <use x=\"1896.875\" xlink:href=\"#DejaVuSans-112\"/>\n     <use x=\"1960.351562\" xlink:href=\"#DejaVuSans-101\"/>\n     <use x=\"2021.875\" xlink:href=\"#DejaVuSans-114\"/>\n     <use x=\"2062.988281\" xlink:href=\"#DejaVuSans-32\"/>\n     <use x=\"2094.775391\" xlink:href=\"#DejaVuSans-115\"/>\n     <use x=\"2146.875\" xlink:href=\"#DejaVuSans-112\"/>\n     <use x=\"2210.351562\" xlink:href=\"#DejaVuSans-101\"/>\n     <use x=\"2271.875\" xlink:href=\"#DejaVuSans-97\"/>\n     <use x=\"2333.154297\" xlink:href=\"#DejaVuSans-107\"/>\n     <use x=\"2387.439453\" xlink:href=\"#DejaVuSans-101\"/>\n     <use x=\"2448.962891\" xlink:href=\"#DejaVuSans-114\"/>\n    </g>\n   </g>\n  </g>\n </g>\n <defs>\n  <clipPath id=\"p6ea56d36ff\">\n   <rect height=\"326.16\" width=\"558\" x=\"36.465625\" y=\"22.318125\"/>\n  </clipPath>\n </defs>\n</svg>\n",
      "image/png": "[encoded data removed]"
     },
     "metadata": {
      "needs_background": "light"
     }
    }
   ],
   "source": [
    "merged_df = dataset.create_df_dataset()\n",
    "merged_df.groupby(\"READER\")[\"MINUTES\"].sum().plot.box()\n",
    "plt.title(\"Boxplot of number of talking minutes per speaker\")\n",
    "plt.show()"
   ]
  },
  {
   "source": [
    "Also, it is interest to have an equal number of minutes talked by each gender so we don't have a gender bias."
   ],
   "cell_type": "markdown",
   "metadata": {}
  },
  {
   "cell_type": "code",
   "execution_count": 26,
   "metadata": {},
   "outputs": [
    {
     "output_type": "display_data",
     "data": {
      "text/plain": "<Figure size 720x432 with 1 Axes>",
      "image/svg+xml": "<?xml version=\"1.0\" encoding=\"utf-8\" standalone=\"no\"?>\n<!DOCTYPE svg PUBLIC \"-//W3C//DTD SVG 1.1//EN\"\n  \"http://www.w3.org/Graphics/SVG/1.1/DTD/svg11.dtd\">\n<!-- Created with matplotlib (https://matplotlib.org/) -->\n<svg height=\"384.984375pt\" version=\"1.1\" viewBox=\"0 0 598.4875 384.984375\" width=\"598.4875pt\" xmlns=\"http://www.w3.org/2000/svg\" xmlns:xlink=\"http://www.w3.org/1999/xlink\">\n <metadata>\n  <rdf:RDF xmlns:cc=\"http://creativecommons.org/ns#\" xmlns:dc=\"http://purl.org/dc/elements/1.1/\" xmlns:rdf=\"http://www.w3.org/1999/02/22-rdf-syntax-ns#\">\n   <cc:Work>\n    <dc:type rdf:resource=\"http://purl.org/dc/dcmitype/StillImage\"/>\n    <dc:date>2020-11-14T19:19:41.316165</dc:date>\n    <dc:format>image/svg+xml</dc:format>\n    <dc:creator>\n     <cc:Agent>\n      <dc:title>Matplotlib v3.3.2, https://matplotlib.org/</dc:title>\n     </cc:Agent>\n    </dc:creator>\n   </cc:Work>\n  </rdf:RDF>\n </metadata>\n <defs>\n  <style type=\"text/css\">*{stroke-linecap:butt;stroke-linejoin:round;}</style>\n </defs>\n <g id=\"figure_1\">\n  <g id=\"patch_1\">\n   <path d=\"M 0 384.984375 \nL 598.4875 384.984375 \nL 598.4875 0 \nL 0 0 \nz\n\" style=\"fill:none;\"/>\n  </g>\n  <g id=\"axes_1\">\n   <g id=\"patch_2\">\n    <path d=\"M 33.2875 348.478125 \nL 591.2875 348.478125 \nL 591.2875 22.318125 \nL 33.2875 22.318125 \nz\n\" style=\"fill:#ffffff;\"/>\n   </g>\n   <g id=\"patch_3\">\n    <path clip-path=\"url(#p6a11c51b4f)\" d=\"M 103.0375 348.478125 \nL 242.5375 348.478125 \nL 242.5375 38.483098 \nL 103.0375 38.483098 \nz\n\" style=\"fill:#1f77b4;\"/>\n   </g>\n   <g id=\"patch_4\">\n    <path clip-path=\"url(#p6a11c51b4f)\" d=\"M 382.0375 348.478125 \nL 521.5375 348.478125 \nL 521.5375 37.849554 \nL 382.0375 37.849554 \nz\n\" style=\"fill:#1f77b4;\"/>\n   </g>\n   <g id=\"matplotlib.axis_1\">\n    <g id=\"xtick_1\">\n     <g id=\"line2d_1\">\n      <defs>\n       <path d=\"M 0 0 \nL 0 3.5 \n\" id=\"m8e97954766\" style=\"stroke:#000000;stroke-width:0.8;\"/>\n      </defs>\n      <g>\n       <use style=\"stroke:#000000;stroke-width:0.8;\" x=\"172.7875\" xlink:href=\"#m8e97954766\" y=\"348.478125\"/>\n      </g>\n     </g>\n     <g id=\"text_1\">\n      <!-- F -->\n      <g transform=\"translate(175.546875 361.229688)rotate(-90)scale(0.1 -0.1)\">\n       <defs>\n        <path d=\"M 9.8125 72.90625 \nL 51.703125 72.90625 \nL 51.703125 64.59375 \nL 19.671875 64.59375 \nL 19.671875 43.109375 \nL 48.578125 43.109375 \nL 48.578125 34.8125 \nL 19.671875 34.8125 \nL 19.671875 0 \nL 9.8125 0 \nz\n\" id=\"DejaVuSans-70\"/>\n       </defs>\n       <use xlink:href=\"#DejaVuSans-70\"/>\n      </g>\n     </g>\n    </g>\n    <g id=\"xtick_2\">\n     <g id=\"line2d_2\">\n      <g>\n       <use style=\"stroke:#000000;stroke-width:0.8;\" x=\"451.7875\" xlink:href=\"#m8e97954766\" y=\"348.478125\"/>\n      </g>\n     </g>\n     <g id=\"text_2\">\n      <!-- M -->\n      <g transform=\"translate(454.546875 364.10625)rotate(-90)scale(0.1 -0.1)\">\n       <defs>\n        <path d=\"M 9.8125 72.90625 \nL 24.515625 72.90625 \nL 43.109375 23.296875 \nL 61.8125 72.90625 \nL 76.515625 72.90625 \nL 76.515625 0 \nL 66.890625 0 \nL 66.890625 64.015625 \nL 48.09375 14.015625 \nL 38.1875 14.015625 \nL 19.390625 64.015625 \nL 19.390625 0 \nL 9.8125 0 \nz\n\" id=\"DejaVuSans-77\"/>\n       </defs>\n       <use xlink:href=\"#DejaVuSans-77\"/>\n      </g>\n     </g>\n    </g>\n    <g id=\"text_3\">\n     <!-- GENDER -->\n     <g transform=\"translate(291.029688 375.704687)scale(0.1 -0.1)\">\n      <defs>\n       <path d=\"M 59.515625 10.40625 \nL 59.515625 29.984375 \nL 43.40625 29.984375 \nL 43.40625 38.09375 \nL 69.28125 38.09375 \nL 69.28125 6.78125 \nQ 63.578125 2.734375 56.6875 0.65625 \nQ 49.8125 -1.421875 42 -1.421875 \nQ 24.90625 -1.421875 15.25 8.5625 \nQ 5.609375 18.5625 5.609375 36.375 \nQ 5.609375 54.25 15.25 64.234375 \nQ 24.90625 74.21875 42 74.21875 \nQ 49.125 74.21875 55.546875 72.453125 \nQ 61.96875 70.703125 67.390625 67.28125 \nL 67.390625 56.78125 \nQ 61.921875 61.421875 55.765625 63.765625 \nQ 49.609375 66.109375 42.828125 66.109375 \nQ 29.4375 66.109375 22.71875 58.640625 \nQ 16.015625 51.171875 16.015625 36.375 \nQ 16.015625 21.625 22.71875 14.15625 \nQ 29.4375 6.6875 42.828125 6.6875 \nQ 48.046875 6.6875 52.140625 7.59375 \nQ 56.25 8.5 59.515625 10.40625 \nz\n\" id=\"DejaVuSans-71\"/>\n       <path d=\"M 9.8125 72.90625 \nL 55.90625 72.90625 \nL 55.90625 64.59375 \nL 19.671875 64.59375 \nL 19.671875 43.015625 \nL 54.390625 43.015625 \nL 54.390625 34.71875 \nL 19.671875 34.71875 \nL 19.671875 8.296875 \nL 56.78125 8.296875 \nL 56.78125 0 \nL 9.8125 0 \nz\n\" id=\"DejaVuSans-69\"/>\n       <path d=\"M 9.8125 72.90625 \nL 23.09375 72.90625 \nL 55.421875 11.921875 \nL 55.421875 72.90625 \nL 64.984375 72.90625 \nL 64.984375 0 \nL 51.703125 0 \nL 19.390625 60.984375 \nL 19.390625 0 \nL 9.8125 0 \nz\n\" id=\"DejaVuSans-78\"/>\n       <path d=\"M 19.671875 64.796875 \nL 19.671875 8.109375 \nL 31.59375 8.109375 \nQ 46.6875 8.109375 53.6875 14.9375 \nQ 60.6875 21.78125 60.6875 36.53125 \nQ 60.6875 51.171875 53.6875 57.984375 \nQ 46.6875 64.796875 31.59375 64.796875 \nz\nM 9.8125 72.90625 \nL 30.078125 72.90625 \nQ 51.265625 72.90625 61.171875 64.09375 \nQ 71.09375 55.28125 71.09375 36.53125 \nQ 71.09375 17.671875 61.125 8.828125 \nQ 51.171875 0 30.078125 0 \nL 9.8125 0 \nz\n\" id=\"DejaVuSans-68\"/>\n       <path d=\"M 44.390625 34.1875 \nQ 47.5625 33.109375 50.5625 29.59375 \nQ 53.5625 26.078125 56.59375 19.921875 \nL 66.609375 0 \nL 56 0 \nL 46.6875 18.703125 \nQ 43.0625 26.03125 39.671875 28.421875 \nQ 36.28125 30.8125 30.421875 30.8125 \nL 19.671875 30.8125 \nL 19.671875 0 \nL 9.8125 0 \nL 9.8125 72.90625 \nL 32.078125 72.90625 \nQ 44.578125 72.90625 50.734375 67.671875 \nQ 56.890625 62.453125 56.890625 51.90625 \nQ 56.890625 45.015625 53.6875 40.46875 \nQ 50.484375 35.9375 44.390625 34.1875 \nz\nM 19.671875 64.796875 \nL 19.671875 38.921875 \nL 32.078125 38.921875 \nQ 39.203125 38.921875 42.84375 42.21875 \nQ 46.484375 45.515625 46.484375 51.90625 \nQ 46.484375 58.296875 42.84375 61.546875 \nQ 39.203125 64.796875 32.078125 64.796875 \nz\n\" id=\"DejaVuSans-82\"/>\n      </defs>\n      <use xlink:href=\"#DejaVuSans-71\"/>\n      <use x=\"77.490234\" xlink:href=\"#DejaVuSans-69\"/>\n      <use x=\"140.673828\" xlink:href=\"#DejaVuSans-78\"/>\n      <use x=\"215.478516\" xlink:href=\"#DejaVuSans-68\"/>\n      <use x=\"292.480469\" xlink:href=\"#DejaVuSans-69\"/>\n      <use x=\"355.664062\" xlink:href=\"#DejaVuSans-82\"/>\n     </g>\n    </g>\n   </g>\n   <g id=\"matplotlib.axis_2\">\n    <g id=\"ytick_1\">\n     <g id=\"line2d_3\">\n      <defs>\n       <path d=\"M 0 0 \nL -3.5 0 \n\" id=\"maf5b786753\" style=\"stroke:#000000;stroke-width:0.8;\"/>\n      </defs>\n      <g>\n       <use style=\"stroke:#000000;stroke-width:0.8;\" x=\"33.2875\" xlink:href=\"#maf5b786753\" y=\"348.478125\"/>\n      </g>\n     </g>\n     <g id=\"text_4\">\n      <!-- 0 -->\n      <g transform=\"translate(19.925 352.277344)scale(0.1 -0.1)\">\n       <defs>\n        <path d=\"M 31.78125 66.40625 \nQ 24.171875 66.40625 20.328125 58.90625 \nQ 16.5 51.421875 16.5 36.375 \nQ 16.5 21.390625 20.328125 13.890625 \nQ 24.171875 6.390625 31.78125 6.390625 \nQ 39.453125 6.390625 43.28125 13.890625 \nQ 47.125 21.390625 47.125 36.375 \nQ 47.125 51.421875 43.28125 58.90625 \nQ 39.453125 66.40625 31.78125 66.40625 \nz\nM 31.78125 74.21875 \nQ 44.046875 74.21875 50.515625 64.515625 \nQ 56.984375 54.828125 56.984375 36.375 \nQ 56.984375 17.96875 50.515625 8.265625 \nQ 44.046875 -1.421875 31.78125 -1.421875 \nQ 19.53125 -1.421875 13.0625 8.265625 \nQ 6.59375 17.96875 6.59375 36.375 \nQ 6.59375 54.828125 13.0625 64.515625 \nQ 19.53125 74.21875 31.78125 74.21875 \nz\n\" id=\"DejaVuSans-48\"/>\n       </defs>\n       <use xlink:href=\"#DejaVuSans-48\"/>\n      </g>\n     </g>\n    </g>\n    <g id=\"ytick_2\">\n     <g id=\"line2d_4\">\n      <g>\n       <use style=\"stroke:#000000;stroke-width:0.8;\" x=\"33.2875\" xlink:href=\"#maf5b786753\" y=\"310.081515\"/>\n      </g>\n     </g>\n     <g id=\"text_5\">\n      <!-- 20 -->\n      <g transform=\"translate(13.5625 313.880734)scale(0.1 -0.1)\">\n       <defs>\n        <path d=\"M 19.1875 8.296875 \nL 53.609375 8.296875 \nL 53.609375 0 \nL 7.328125 0 \nL 7.328125 8.296875 \nQ 12.9375 14.109375 22.625 23.890625 \nQ 32.328125 33.6875 34.8125 36.53125 \nQ 39.546875 41.84375 41.421875 45.53125 \nQ 43.3125 49.21875 43.3125 52.78125 \nQ 43.3125 58.59375 39.234375 62.25 \nQ 35.15625 65.921875 28.609375 65.921875 \nQ 23.96875 65.921875 18.8125 64.3125 \nQ 13.671875 62.703125 7.8125 59.421875 \nL 7.8125 69.390625 \nQ 13.765625 71.78125 18.9375 73 \nQ 24.125 74.21875 28.421875 74.21875 \nQ 39.75 74.21875 46.484375 68.546875 \nQ 53.21875 62.890625 53.21875 53.421875 \nQ 53.21875 48.921875 51.53125 44.890625 \nQ 49.859375 40.875 45.40625 35.40625 \nQ 44.1875 33.984375 37.640625 27.21875 \nQ 31.109375 20.453125 19.1875 8.296875 \nz\n\" id=\"DejaVuSans-50\"/>\n       </defs>\n       <use xlink:href=\"#DejaVuSans-50\"/>\n       <use x=\"63.623047\" xlink:href=\"#DejaVuSans-48\"/>\n      </g>\n     </g>\n    </g>\n    <g id=\"ytick_3\">\n     <g id=\"line2d_5\">\n      <g>\n       <use style=\"stroke:#000000;stroke-width:0.8;\" x=\"33.2875\" xlink:href=\"#maf5b786753\" y=\"271.684906\"/>\n      </g>\n     </g>\n     <g id=\"text_6\">\n      <!-- 40 -->\n      <g transform=\"translate(13.5625 275.484125)scale(0.1 -0.1)\">\n       <defs>\n        <path d=\"M 37.796875 64.3125 \nL 12.890625 25.390625 \nL 37.796875 25.390625 \nz\nM 35.203125 72.90625 \nL 47.609375 72.90625 \nL 47.609375 25.390625 \nL 58.015625 25.390625 \nL 58.015625 17.1875 \nL 47.609375 17.1875 \nL 47.609375 0 \nL 37.796875 0 \nL 37.796875 17.1875 \nL 4.890625 17.1875 \nL 4.890625 26.703125 \nz\n\" id=\"DejaVuSans-52\"/>\n       </defs>\n       <use xlink:href=\"#DejaVuSans-52\"/>\n       <use x=\"63.623047\" xlink:href=\"#DejaVuSans-48\"/>\n      </g>\n     </g>\n    </g>\n    <g id=\"ytick_4\">\n     <g id=\"line2d_6\">\n      <g>\n       <use style=\"stroke:#000000;stroke-width:0.8;\" x=\"33.2875\" xlink:href=\"#maf5b786753\" y=\"233.288296\"/>\n      </g>\n     </g>\n     <g id=\"text_7\">\n      <!-- 60 -->\n      <g transform=\"translate(13.5625 237.087515)scale(0.1 -0.1)\">\n       <defs>\n        <path d=\"M 33.015625 40.375 \nQ 26.375 40.375 22.484375 35.828125 \nQ 18.609375 31.296875 18.609375 23.390625 \nQ 18.609375 15.53125 22.484375 10.953125 \nQ 26.375 6.390625 33.015625 6.390625 \nQ 39.65625 6.390625 43.53125 10.953125 \nQ 47.40625 15.53125 47.40625 23.390625 \nQ 47.40625 31.296875 43.53125 35.828125 \nQ 39.65625 40.375 33.015625 40.375 \nz\nM 52.59375 71.296875 \nL 52.59375 62.3125 \nQ 48.875 64.0625 45.09375 64.984375 \nQ 41.3125 65.921875 37.59375 65.921875 \nQ 27.828125 65.921875 22.671875 59.328125 \nQ 17.53125 52.734375 16.796875 39.40625 \nQ 19.671875 43.65625 24.015625 45.921875 \nQ 28.375 48.1875 33.59375 48.1875 \nQ 44.578125 48.1875 50.953125 41.515625 \nQ 57.328125 34.859375 57.328125 23.390625 \nQ 57.328125 12.15625 50.6875 5.359375 \nQ 44.046875 -1.421875 33.015625 -1.421875 \nQ 20.359375 -1.421875 13.671875 8.265625 \nQ 6.984375 17.96875 6.984375 36.375 \nQ 6.984375 53.65625 15.1875 63.9375 \nQ 23.390625 74.21875 37.203125 74.21875 \nQ 40.921875 74.21875 44.703125 73.484375 \nQ 48.484375 72.75 52.59375 71.296875 \nz\n\" id=\"DejaVuSans-54\"/>\n       </defs>\n       <use xlink:href=\"#DejaVuSans-54\"/>\n       <use x=\"63.623047\" xlink:href=\"#DejaVuSans-48\"/>\n      </g>\n     </g>\n    </g>\n    <g id=\"ytick_5\">\n     <g id=\"line2d_7\">\n      <g>\n       <use style=\"stroke:#000000;stroke-width:0.8;\" x=\"33.2875\" xlink:href=\"#maf5b786753\" y=\"194.891687\"/>\n      </g>\n     </g>\n     <g id=\"text_8\">\n      <!-- 80 -->\n      <g transform=\"translate(13.5625 198.690905)scale(0.1 -0.1)\">\n       <defs>\n        <path d=\"M 31.78125 34.625 \nQ 24.75 34.625 20.71875 30.859375 \nQ 16.703125 27.09375 16.703125 20.515625 \nQ 16.703125 13.921875 20.71875 10.15625 \nQ 24.75 6.390625 31.78125 6.390625 \nQ 38.8125 6.390625 42.859375 10.171875 \nQ 46.921875 13.96875 46.921875 20.515625 \nQ 46.921875 27.09375 42.890625 30.859375 \nQ 38.875 34.625 31.78125 34.625 \nz\nM 21.921875 38.8125 \nQ 15.578125 40.375 12.03125 44.71875 \nQ 8.5 49.078125 8.5 55.328125 \nQ 8.5 64.0625 14.71875 69.140625 \nQ 20.953125 74.21875 31.78125 74.21875 \nQ 42.671875 74.21875 48.875 69.140625 \nQ 55.078125 64.0625 55.078125 55.328125 \nQ 55.078125 49.078125 51.53125 44.71875 \nQ 48 40.375 41.703125 38.8125 \nQ 48.828125 37.15625 52.796875 32.3125 \nQ 56.78125 27.484375 56.78125 20.515625 \nQ 56.78125 9.90625 50.3125 4.234375 \nQ 43.84375 -1.421875 31.78125 -1.421875 \nQ 19.734375 -1.421875 13.25 4.234375 \nQ 6.78125 9.90625 6.78125 20.515625 \nQ 6.78125 27.484375 10.78125 32.3125 \nQ 14.796875 37.15625 21.921875 38.8125 \nz\nM 18.3125 54.390625 \nQ 18.3125 48.734375 21.84375 45.5625 \nQ 25.390625 42.390625 31.78125 42.390625 \nQ 38.140625 42.390625 41.71875 45.5625 \nQ 45.3125 48.734375 45.3125 54.390625 \nQ 45.3125 60.0625 41.71875 63.234375 \nQ 38.140625 66.40625 31.78125 66.40625 \nQ 25.390625 66.40625 21.84375 63.234375 \nQ 18.3125 60.0625 18.3125 54.390625 \nz\n\" id=\"DejaVuSans-56\"/>\n       </defs>\n       <use xlink:href=\"#DejaVuSans-56\"/>\n       <use x=\"63.623047\" xlink:href=\"#DejaVuSans-48\"/>\n      </g>\n     </g>\n    </g>\n    <g id=\"ytick_6\">\n     <g id=\"line2d_8\">\n      <g>\n       <use style=\"stroke:#000000;stroke-width:0.8;\" x=\"33.2875\" xlink:href=\"#maf5b786753\" y=\"156.495077\"/>\n      </g>\n     </g>\n     <g id=\"text_9\">\n      <!-- 100 -->\n      <g transform=\"translate(7.2 160.294296)scale(0.1 -0.1)\">\n       <defs>\n        <path d=\"M 12.40625 8.296875 \nL 28.515625 8.296875 \nL 28.515625 63.921875 \nL 10.984375 60.40625 \nL 10.984375 69.390625 \nL 28.421875 72.90625 \nL 38.28125 72.90625 \nL 38.28125 8.296875 \nL 54.390625 8.296875 \nL 54.390625 0 \nL 12.40625 0 \nz\n\" id=\"DejaVuSans-49\"/>\n       </defs>\n       <use xlink:href=\"#DejaVuSans-49\"/>\n       <use x=\"63.623047\" xlink:href=\"#DejaVuSans-48\"/>\n       <use x=\"127.246094\" xlink:href=\"#DejaVuSans-48\"/>\n      </g>\n     </g>\n    </g>\n    <g id=\"ytick_7\">\n     <g id=\"line2d_9\">\n      <g>\n       <use style=\"stroke:#000000;stroke-width:0.8;\" x=\"33.2875\" xlink:href=\"#maf5b786753\" y=\"118.098468\"/>\n      </g>\n     </g>\n     <g id=\"text_10\">\n      <!-- 120 -->\n      <g transform=\"translate(7.2 121.897686)scale(0.1 -0.1)\">\n       <use xlink:href=\"#DejaVuSans-49\"/>\n       <use x=\"63.623047\" xlink:href=\"#DejaVuSans-50\"/>\n       <use x=\"127.246094\" xlink:href=\"#DejaVuSans-48\"/>\n      </g>\n     </g>\n    </g>\n    <g id=\"ytick_8\">\n     <g id=\"line2d_10\">\n      <g>\n       <use style=\"stroke:#000000;stroke-width:0.8;\" x=\"33.2875\" xlink:href=\"#maf5b786753\" y=\"79.701858\"/>\n      </g>\n     </g>\n     <g id=\"text_11\">\n      <!-- 140 -->\n      <g transform=\"translate(7.2 83.501077)scale(0.1 -0.1)\">\n       <use xlink:href=\"#DejaVuSans-49\"/>\n       <use x=\"63.623047\" xlink:href=\"#DejaVuSans-52\"/>\n       <use x=\"127.246094\" xlink:href=\"#DejaVuSans-48\"/>\n      </g>\n     </g>\n    </g>\n    <g id=\"ytick_9\">\n     <g id=\"line2d_11\">\n      <g>\n       <use style=\"stroke:#000000;stroke-width:0.8;\" x=\"33.2875\" xlink:href=\"#maf5b786753\" y=\"41.305248\"/>\n      </g>\n     </g>\n     <g id=\"text_12\">\n      <!-- 160 -->\n      <g transform=\"translate(7.2 45.104467)scale(0.1 -0.1)\">\n       <use xlink:href=\"#DejaVuSans-49\"/>\n       <use x=\"63.623047\" xlink:href=\"#DejaVuSans-54\"/>\n       <use x=\"127.246094\" xlink:href=\"#DejaVuSans-48\"/>\n      </g>\n     </g>\n    </g>\n   </g>\n   <g id=\"patch_5\">\n    <path d=\"M 33.2875 348.478125 \nL 33.2875 22.318125 \n\" style=\"fill:none;stroke:#000000;stroke-linecap:square;stroke-linejoin:miter;stroke-width:0.8;\"/>\n   </g>\n   <g id=\"patch_6\">\n    <path d=\"M 591.2875 348.478125 \nL 591.2875 22.318125 \n\" style=\"fill:none;stroke:#000000;stroke-linecap:square;stroke-linejoin:miter;stroke-width:0.8;\"/>\n   </g>\n   <g id=\"patch_7\">\n    <path d=\"M 33.2875 348.478125 \nL 591.2875 348.478125 \n\" style=\"fill:none;stroke:#000000;stroke-linecap:square;stroke-linejoin:miter;stroke-width:0.8;\"/>\n   </g>\n   <g id=\"patch_8\">\n    <path d=\"M 33.2875 22.318125 \nL 591.2875 22.318125 \n\" style=\"fill:none;stroke:#000000;stroke-linecap:square;stroke-linejoin:miter;stroke-width:0.8;\"/>\n   </g>\n   <g id=\"text_13\">\n    <!-- Barplot of number of talking minutes per gender -->\n    <g transform=\"translate(166.223125 16.318125)scale(0.12 -0.12)\">\n     <defs>\n      <path d=\"M 19.671875 34.8125 \nL 19.671875 8.109375 \nL 35.5 8.109375 \nQ 43.453125 8.109375 47.28125 11.40625 \nQ 51.125 14.703125 51.125 21.484375 \nQ 51.125 28.328125 47.28125 31.5625 \nQ 43.453125 34.8125 35.5 34.8125 \nz\nM 19.671875 64.796875 \nL 19.671875 42.828125 \nL 34.28125 42.828125 \nQ 41.5 42.828125 45.03125 45.53125 \nQ 48.578125 48.25 48.578125 53.8125 \nQ 48.578125 59.328125 45.03125 62.0625 \nQ 41.5 64.796875 34.28125 64.796875 \nz\nM 9.8125 72.90625 \nL 35.015625 72.90625 \nQ 46.296875 72.90625 52.390625 68.21875 \nQ 58.5 63.53125 58.5 54.890625 \nQ 58.5 48.1875 55.375 44.234375 \nQ 52.25 40.28125 46.1875 39.3125 \nQ 53.46875 37.75 57.5 32.78125 \nQ 61.53125 27.828125 61.53125 20.40625 \nQ 61.53125 10.640625 54.890625 5.3125 \nQ 48.25 0 35.984375 0 \nL 9.8125 0 \nz\n\" id=\"DejaVuSans-66\"/>\n      <path d=\"M 34.28125 27.484375 \nQ 23.390625 27.484375 19.1875 25 \nQ 14.984375 22.515625 14.984375 16.5 \nQ 14.984375 11.71875 18.140625 8.90625 \nQ 21.296875 6.109375 26.703125 6.109375 \nQ 34.1875 6.109375 38.703125 11.40625 \nQ 43.21875 16.703125 43.21875 25.484375 \nL 43.21875 27.484375 \nz\nM 52.203125 31.203125 \nL 52.203125 0 \nL 43.21875 0 \nL 43.21875 8.296875 \nQ 40.140625 3.328125 35.546875 0.953125 \nQ 30.953125 -1.421875 24.3125 -1.421875 \nQ 15.921875 -1.421875 10.953125 3.296875 \nQ 6 8.015625 6 15.921875 \nQ 6 25.140625 12.171875 29.828125 \nQ 18.359375 34.515625 30.609375 34.515625 \nL 43.21875 34.515625 \nL 43.21875 35.40625 \nQ 43.21875 41.609375 39.140625 45 \nQ 35.0625 48.390625 27.6875 48.390625 \nQ 23 48.390625 18.546875 47.265625 \nQ 14.109375 46.140625 10.015625 43.890625 \nL 10.015625 52.203125 \nQ 14.9375 54.109375 19.578125 55.046875 \nQ 24.21875 56 28.609375 56 \nQ 40.484375 56 46.34375 49.84375 \nQ 52.203125 43.703125 52.203125 31.203125 \nz\n\" id=\"DejaVuSans-97\"/>\n      <path d=\"M 41.109375 46.296875 \nQ 39.59375 47.171875 37.8125 47.578125 \nQ 36.03125 48 33.890625 48 \nQ 26.265625 48 22.1875 43.046875 \nQ 18.109375 38.09375 18.109375 28.8125 \nL 18.109375 0 \nL 9.078125 0 \nL 9.078125 54.6875 \nL 18.109375 54.6875 \nL 18.109375 46.1875 \nQ 20.953125 51.171875 25.484375 53.578125 \nQ 30.03125 56 36.53125 56 \nQ 37.453125 56 38.578125 55.875 \nQ 39.703125 55.765625 41.0625 55.515625 \nz\n\" id=\"DejaVuSans-114\"/>\n      <path d=\"M 18.109375 8.203125 \nL 18.109375 -20.796875 \nL 9.078125 -20.796875 \nL 9.078125 54.6875 \nL 18.109375 54.6875 \nL 18.109375 46.390625 \nQ 20.953125 51.265625 25.265625 53.625 \nQ 29.59375 56 35.59375 56 \nQ 45.5625 56 51.78125 48.09375 \nQ 58.015625 40.1875 58.015625 27.296875 \nQ 58.015625 14.40625 51.78125 6.484375 \nQ 45.5625 -1.421875 35.59375 -1.421875 \nQ 29.59375 -1.421875 25.265625 0.953125 \nQ 20.953125 3.328125 18.109375 8.203125 \nz\nM 48.6875 27.296875 \nQ 48.6875 37.203125 44.609375 42.84375 \nQ 40.53125 48.484375 33.40625 48.484375 \nQ 26.265625 48.484375 22.1875 42.84375 \nQ 18.109375 37.203125 18.109375 27.296875 \nQ 18.109375 17.390625 22.1875 11.75 \nQ 26.265625 6.109375 33.40625 6.109375 \nQ 40.53125 6.109375 44.609375 11.75 \nQ 48.6875 17.390625 48.6875 27.296875 \nz\n\" id=\"DejaVuSans-112\"/>\n      <path d=\"M 9.421875 75.984375 \nL 18.40625 75.984375 \nL 18.40625 0 \nL 9.421875 0 \nz\n\" id=\"DejaVuSans-108\"/>\n      <path d=\"M 30.609375 48.390625 \nQ 23.390625 48.390625 19.1875 42.75 \nQ 14.984375 37.109375 14.984375 27.296875 \nQ 14.984375 17.484375 19.15625 11.84375 \nQ 23.34375 6.203125 30.609375 6.203125 \nQ 37.796875 6.203125 41.984375 11.859375 \nQ 46.1875 17.53125 46.1875 27.296875 \nQ 46.1875 37.015625 41.984375 42.703125 \nQ 37.796875 48.390625 30.609375 48.390625 \nz\nM 30.609375 56 \nQ 42.328125 56 49.015625 48.375 \nQ 55.71875 40.765625 55.71875 27.296875 \nQ 55.71875 13.875 49.015625 6.21875 \nQ 42.328125 -1.421875 30.609375 -1.421875 \nQ 18.84375 -1.421875 12.171875 6.21875 \nQ 5.515625 13.875 5.515625 27.296875 \nQ 5.515625 40.765625 12.171875 48.375 \nQ 18.84375 56 30.609375 56 \nz\n\" id=\"DejaVuSans-111\"/>\n      <path d=\"M 18.3125 70.21875 \nL 18.3125 54.6875 \nL 36.8125 54.6875 \nL 36.8125 47.703125 \nL 18.3125 47.703125 \nL 18.3125 18.015625 \nQ 18.3125 11.328125 20.140625 9.421875 \nQ 21.96875 7.515625 27.59375 7.515625 \nL 36.8125 7.515625 \nL 36.8125 0 \nL 27.59375 0 \nQ 17.1875 0 13.234375 3.875 \nQ 9.28125 7.765625 9.28125 18.015625 \nL 9.28125 47.703125 \nL 2.6875 47.703125 \nL 2.6875 54.6875 \nL 9.28125 54.6875 \nL 9.28125 70.21875 \nz\n\" id=\"DejaVuSans-116\"/>\n      <path id=\"DejaVuSans-32\"/>\n      <path d=\"M 37.109375 75.984375 \nL 37.109375 68.5 \nL 28.515625 68.5 \nQ 23.6875 68.5 21.796875 66.546875 \nQ 19.921875 64.59375 19.921875 59.515625 \nL 19.921875 54.6875 \nL 34.71875 54.6875 \nL 34.71875 47.703125 \nL 19.921875 47.703125 \nL 19.921875 0 \nL 10.890625 0 \nL 10.890625 47.703125 \nL 2.296875 47.703125 \nL 2.296875 54.6875 \nL 10.890625 54.6875 \nL 10.890625 58.5 \nQ 10.890625 67.625 15.140625 71.796875 \nQ 19.390625 75.984375 28.609375 75.984375 \nz\n\" id=\"DejaVuSans-102\"/>\n      <path d=\"M 54.890625 33.015625 \nL 54.890625 0 \nL 45.90625 0 \nL 45.90625 32.71875 \nQ 45.90625 40.484375 42.875 44.328125 \nQ 39.84375 48.1875 33.796875 48.1875 \nQ 26.515625 48.1875 22.3125 43.546875 \nQ 18.109375 38.921875 18.109375 30.90625 \nL 18.109375 0 \nL 9.078125 0 \nL 9.078125 54.6875 \nL 18.109375 54.6875 \nL 18.109375 46.1875 \nQ 21.34375 51.125 25.703125 53.5625 \nQ 30.078125 56 35.796875 56 \nQ 45.21875 56 50.046875 50.171875 \nQ 54.890625 44.34375 54.890625 33.015625 \nz\n\" id=\"DejaVuSans-110\"/>\n      <path d=\"M 8.5 21.578125 \nL 8.5 54.6875 \nL 17.484375 54.6875 \nL 17.484375 21.921875 \nQ 17.484375 14.15625 20.5 10.265625 \nQ 23.53125 6.390625 29.59375 6.390625 \nQ 36.859375 6.390625 41.078125 11.03125 \nQ 45.3125 15.671875 45.3125 23.6875 \nL 45.3125 54.6875 \nL 54.296875 54.6875 \nL 54.296875 0 \nL 45.3125 0 \nL 45.3125 8.40625 \nQ 42.046875 3.421875 37.71875 1 \nQ 33.40625 -1.421875 27.6875 -1.421875 \nQ 18.265625 -1.421875 13.375 4.4375 \nQ 8.5 10.296875 8.5 21.578125 \nz\nM 31.109375 56 \nz\n\" id=\"DejaVuSans-117\"/>\n      <path d=\"M 52 44.1875 \nQ 55.375 50.25 60.0625 53.125 \nQ 64.75 56 71.09375 56 \nQ 79.640625 56 84.28125 50.015625 \nQ 88.921875 44.046875 88.921875 33.015625 \nL 88.921875 0 \nL 79.890625 0 \nL 79.890625 32.71875 \nQ 79.890625 40.578125 77.09375 44.375 \nQ 74.3125 48.1875 68.609375 48.1875 \nQ 61.625 48.1875 57.5625 43.546875 \nQ 53.515625 38.921875 53.515625 30.90625 \nL 53.515625 0 \nL 44.484375 0 \nL 44.484375 32.71875 \nQ 44.484375 40.625 41.703125 44.40625 \nQ 38.921875 48.1875 33.109375 48.1875 \nQ 26.21875 48.1875 22.15625 43.53125 \nQ 18.109375 38.875 18.109375 30.90625 \nL 18.109375 0 \nL 9.078125 0 \nL 9.078125 54.6875 \nL 18.109375 54.6875 \nL 18.109375 46.1875 \nQ 21.1875 51.21875 25.484375 53.609375 \nQ 29.78125 56 35.6875 56 \nQ 41.65625 56 45.828125 52.96875 \nQ 50 49.953125 52 44.1875 \nz\n\" id=\"DejaVuSans-109\"/>\n      <path d=\"M 48.6875 27.296875 \nQ 48.6875 37.203125 44.609375 42.84375 \nQ 40.53125 48.484375 33.40625 48.484375 \nQ 26.265625 48.484375 22.1875 42.84375 \nQ 18.109375 37.203125 18.109375 27.296875 \nQ 18.109375 17.390625 22.1875 11.75 \nQ 26.265625 6.109375 33.40625 6.109375 \nQ 40.53125 6.109375 44.609375 11.75 \nQ 48.6875 17.390625 48.6875 27.296875 \nz\nM 18.109375 46.390625 \nQ 20.953125 51.265625 25.265625 53.625 \nQ 29.59375 56 35.59375 56 \nQ 45.5625 56 51.78125 48.09375 \nQ 58.015625 40.1875 58.015625 27.296875 \nQ 58.015625 14.40625 51.78125 6.484375 \nQ 45.5625 -1.421875 35.59375 -1.421875 \nQ 29.59375 -1.421875 25.265625 0.953125 \nQ 20.953125 3.328125 18.109375 8.203125 \nL 18.109375 0 \nL 9.078125 0 \nL 9.078125 75.984375 \nL 18.109375 75.984375 \nz\n\" id=\"DejaVuSans-98\"/>\n      <path d=\"M 56.203125 29.59375 \nL 56.203125 25.203125 \nL 14.890625 25.203125 \nQ 15.484375 15.921875 20.484375 11.0625 \nQ 25.484375 6.203125 34.421875 6.203125 \nQ 39.59375 6.203125 44.453125 7.46875 \nQ 49.3125 8.734375 54.109375 11.28125 \nL 54.109375 2.78125 \nQ 49.265625 0.734375 44.1875 -0.34375 \nQ 39.109375 -1.421875 33.890625 -1.421875 \nQ 20.796875 -1.421875 13.15625 6.1875 \nQ 5.515625 13.8125 5.515625 26.8125 \nQ 5.515625 40.234375 12.765625 48.109375 \nQ 20.015625 56 32.328125 56 \nQ 43.359375 56 49.78125 48.890625 \nQ 56.203125 41.796875 56.203125 29.59375 \nz\nM 47.21875 32.234375 \nQ 47.125 39.59375 43.09375 43.984375 \nQ 39.0625 48.390625 32.421875 48.390625 \nQ 24.90625 48.390625 20.390625 44.140625 \nQ 15.875 39.890625 15.1875 32.171875 \nz\n\" id=\"DejaVuSans-101\"/>\n      <path d=\"M 9.078125 75.984375 \nL 18.109375 75.984375 \nL 18.109375 31.109375 \nL 44.921875 54.6875 \nL 56.390625 54.6875 \nL 27.390625 29.109375 \nL 57.625 0 \nL 45.90625 0 \nL 18.109375 26.703125 \nL 18.109375 0 \nL 9.078125 0 \nz\n\" id=\"DejaVuSans-107\"/>\n      <path d=\"M 9.421875 54.6875 \nL 18.40625 54.6875 \nL 18.40625 0 \nL 9.421875 0 \nz\nM 9.421875 75.984375 \nL 18.40625 75.984375 \nL 18.40625 64.59375 \nL 9.421875 64.59375 \nz\n\" id=\"DejaVuSans-105\"/>\n      <path d=\"M 45.40625 27.984375 \nQ 45.40625 37.75 41.375 43.109375 \nQ 37.359375 48.484375 30.078125 48.484375 \nQ 22.859375 48.484375 18.828125 43.109375 \nQ 14.796875 37.75 14.796875 27.984375 \nQ 14.796875 18.265625 18.828125 12.890625 \nQ 22.859375 7.515625 30.078125 7.515625 \nQ 37.359375 7.515625 41.375 12.890625 \nQ 45.40625 18.265625 45.40625 27.984375 \nz\nM 54.390625 6.78125 \nQ 54.390625 -7.171875 48.1875 -13.984375 \nQ 42 -20.796875 29.203125 -20.796875 \nQ 24.46875 -20.796875 20.265625 -20.09375 \nQ 16.0625 -19.390625 12.109375 -17.921875 \nL 12.109375 -9.1875 \nQ 16.0625 -11.328125 19.921875 -12.34375 \nQ 23.78125 -13.375 27.78125 -13.375 \nQ 36.625 -13.375 41.015625 -8.765625 \nQ 45.40625 -4.15625 45.40625 5.171875 \nL 45.40625 9.625 \nQ 42.625 4.78125 38.28125 2.390625 \nQ 33.9375 0 27.875 0 \nQ 17.828125 0 11.671875 7.65625 \nQ 5.515625 15.328125 5.515625 27.984375 \nQ 5.515625 40.671875 11.671875 48.328125 \nQ 17.828125 56 27.875 56 \nQ 33.9375 56 38.28125 53.609375 \nQ 42.625 51.21875 45.40625 46.390625 \nL 45.40625 54.6875 \nL 54.390625 54.6875 \nz\n\" id=\"DejaVuSans-103\"/>\n      <path d=\"M 44.28125 53.078125 \nL 44.28125 44.578125 \nQ 40.484375 46.53125 36.375 47.5 \nQ 32.28125 48.484375 27.875 48.484375 \nQ 21.1875 48.484375 17.84375 46.4375 \nQ 14.5 44.390625 14.5 40.28125 \nQ 14.5 37.15625 16.890625 35.375 \nQ 19.28125 33.59375 26.515625 31.984375 \nL 29.59375 31.296875 \nQ 39.15625 29.25 43.1875 25.515625 \nQ 47.21875 21.78125 47.21875 15.09375 \nQ 47.21875 7.46875 41.1875 3.015625 \nQ 35.15625 -1.421875 24.609375 -1.421875 \nQ 20.21875 -1.421875 15.453125 -0.5625 \nQ 10.6875 0.296875 5.421875 2 \nL 5.421875 11.28125 \nQ 10.40625 8.6875 15.234375 7.390625 \nQ 20.0625 6.109375 24.8125 6.109375 \nQ 31.15625 6.109375 34.5625 8.28125 \nQ 37.984375 10.453125 37.984375 14.40625 \nQ 37.984375 18.0625 35.515625 20.015625 \nQ 33.0625 21.96875 24.703125 23.78125 \nL 21.578125 24.515625 \nQ 13.234375 26.265625 9.515625 29.90625 \nQ 5.8125 33.546875 5.8125 39.890625 \nQ 5.8125 47.609375 11.28125 51.796875 \nQ 16.75 56 26.8125 56 \nQ 31.78125 56 36.171875 55.265625 \nQ 40.578125 54.546875 44.28125 53.078125 \nz\n\" id=\"DejaVuSans-115\"/>\n      <path d=\"M 45.40625 46.390625 \nL 45.40625 75.984375 \nL 54.390625 75.984375 \nL 54.390625 0 \nL 45.40625 0 \nL 45.40625 8.203125 \nQ 42.578125 3.328125 38.25 0.953125 \nQ 33.9375 -1.421875 27.875 -1.421875 \nQ 17.96875 -1.421875 11.734375 6.484375 \nQ 5.515625 14.40625 5.515625 27.296875 \nQ 5.515625 40.1875 11.734375 48.09375 \nQ 17.96875 56 27.875 56 \nQ 33.9375 56 38.25 53.625 \nQ 42.578125 51.265625 45.40625 46.390625 \nz\nM 14.796875 27.296875 \nQ 14.796875 17.390625 18.875 11.75 \nQ 22.953125 6.109375 30.078125 6.109375 \nQ 37.203125 6.109375 41.296875 11.75 \nQ 45.40625 17.390625 45.40625 27.296875 \nQ 45.40625 37.203125 41.296875 42.84375 \nQ 37.203125 48.484375 30.078125 48.484375 \nQ 22.953125 48.484375 18.875 42.84375 \nQ 14.796875 37.203125 14.796875 27.296875 \nz\n\" id=\"DejaVuSans-100\"/>\n     </defs>\n     <use xlink:href=\"#DejaVuSans-66\"/>\n     <use x=\"68.603516\" xlink:href=\"#DejaVuSans-97\"/>\n     <use x=\"129.882812\" xlink:href=\"#DejaVuSans-114\"/>\n     <use x=\"170.996094\" xlink:href=\"#DejaVuSans-112\"/>\n     <use x=\"234.472656\" xlink:href=\"#DejaVuSans-108\"/>\n     <use x=\"262.255859\" xlink:href=\"#DejaVuSans-111\"/>\n     <use x=\"323.4375\" xlink:href=\"#DejaVuSans-116\"/>\n     <use x=\"362.646484\" xlink:href=\"#DejaVuSans-32\"/>\n     <use x=\"394.433594\" xlink:href=\"#DejaVuSans-111\"/>\n     <use x=\"455.615234\" xlink:href=\"#DejaVuSans-102\"/>\n     <use x=\"490.820312\" xlink:href=\"#DejaVuSans-32\"/>\n     <use x=\"522.607422\" xlink:href=\"#DejaVuSans-110\"/>\n     <use x=\"585.986328\" xlink:href=\"#DejaVuSans-117\"/>\n     <use x=\"649.365234\" xlink:href=\"#DejaVuSans-109\"/>\n     <use x=\"746.777344\" xlink:href=\"#DejaVuSans-98\"/>\n     <use x=\"810.253906\" xlink:href=\"#DejaVuSans-101\"/>\n     <use x=\"871.777344\" xlink:href=\"#DejaVuSans-114\"/>\n     <use x=\"912.890625\" xlink:href=\"#DejaVuSans-32\"/>\n     <use x=\"944.677734\" xlink:href=\"#DejaVuSans-111\"/>\n     <use x=\"1005.859375\" xlink:href=\"#DejaVuSans-102\"/>\n     <use x=\"1041.064453\" xlink:href=\"#DejaVuSans-32\"/>\n     <use x=\"1072.851562\" xlink:href=\"#DejaVuSans-116\"/>\n     <use x=\"1112.060547\" xlink:href=\"#DejaVuSans-97\"/>\n     <use x=\"1173.339844\" xlink:href=\"#DejaVuSans-108\"/>\n     <use x=\"1201.123047\" xlink:href=\"#DejaVuSans-107\"/>\n     <use x=\"1259.033203\" xlink:href=\"#DejaVuSans-105\"/>\n     <use x=\"1286.816406\" xlink:href=\"#DejaVuSans-110\"/>\n     <use x=\"1350.195312\" xlink:href=\"#DejaVuSans-103\"/>\n     <use x=\"1413.671875\" xlink:href=\"#DejaVuSans-32\"/>\n     <use x=\"1445.458984\" xlink:href=\"#DejaVuSans-109\"/>\n     <use x=\"1542.871094\" xlink:href=\"#DejaVuSans-105\"/>\n     <use x=\"1570.654297\" xlink:href=\"#DejaVuSans-110\"/>\n     <use x=\"1634.033203\" xlink:href=\"#DejaVuSans-117\"/>\n     <use x=\"1697.412109\" xlink:href=\"#DejaVuSans-116\"/>\n     <use x=\"1736.621094\" xlink:href=\"#DejaVuSans-101\"/>\n     <use x=\"1798.144531\" xlink:href=\"#DejaVuSans-115\"/>\n     <use x=\"1850.244141\" xlink:href=\"#DejaVuSans-32\"/>\n     <use x=\"1882.03125\" xlink:href=\"#DejaVuSans-112\"/>\n     <use x=\"1945.507812\" xlink:href=\"#DejaVuSans-101\"/>\n     <use x=\"2007.03125\" xlink:href=\"#DejaVuSans-114\"/>\n     <use x=\"2048.144531\" xlink:href=\"#DejaVuSans-32\"/>\n     <use x=\"2079.931641\" xlink:href=\"#DejaVuSans-103\"/>\n     <use x=\"2143.408203\" xlink:href=\"#DejaVuSans-101\"/>\n     <use x=\"2204.931641\" xlink:href=\"#DejaVuSans-110\"/>\n     <use x=\"2268.310547\" xlink:href=\"#DejaVuSans-100\"/>\n     <use x=\"2331.787109\" xlink:href=\"#DejaVuSans-101\"/>\n     <use x=\"2393.310547\" xlink:href=\"#DejaVuSans-114\"/>\n    </g>\n   </g>\n  </g>\n </g>\n <defs>\n  <clipPath id=\"p6a11c51b4f\">\n   <rect height=\"326.16\" width=\"558\" x=\"33.2875\" y=\"22.318125\"/>\n  </clipPath>\n </defs>\n</svg>\n",
      "image/png": "[encoded data removed]"
     },
     "metadata": {
      "needs_background": "light"
     }
    }
   ],
   "source": [
    "merged_df.groupby(\"GENDER\")[\"MINUTES\"].sum().plot.bar()\n",
    "plt.title(\"Barplot of number of talking minutes per gender\")\n",
    "plt.show()"
   ]
  },
  {
   "source": [
    "## Generate classification dataset\n",
    "We now generate our classification dataset that we will be using afterward to assess our models.\n",
    "The hyperparameters of this dataset generation are:\n",
    "* n_mfcc: number of MFCC features, we select 36 as it led to good results\n",
    "* sr: the sample rate of the FLAC file, used to compute the hop_length (see next)\n",
    "* hop_duration: the duration to compute the MFCC features on for an audio file, we select 100 ms and it led to good result, we don't want it to be too short to reduce the effect of noise on it.\n",
    "* n_fft: the number of values used to compute the Fast Fourier Transform, it showed good results and thus we chose 512.\n",
    "* test_ratio: the ratio of data to go into the test set.\n",
    "\n",
    "### Using our custom class to generate the classification dataset"
   ],
   "cell_type": "markdown",
   "metadata": {}
  },
  {
   "cell_type": "code",
   "execution_count": 27,
   "metadata": {},
   "outputs": [],
   "source": [
    "n_mfcc = 36\n",
    "sr = 22050\n",
    "hop_duration = 0.1 # s\n",
    "hop_length = round(hop_duration * sr)\n",
    "n_fft = 512\n",
    "test_ratio = 0.2\n",
    "\n",
    "dataset_path = Path(f\"./data/dataset_{n_mfcc}_{hop_length}_{n_fft}.npy\")\n",
    "if not dataset_path.is_file():\n",
    "    train_data, y_train, test_data, y_test = dataset.np_dataset(n_mfcc = n_mfcc, hop_length = hop_length, n_fft=n_fft, test_ratio=test_ratio)\n",
    "    with open(dataset_path, 'wb') as f:\n",
    "        np.save(f, train_data)\n",
    "        np.save(f, y_train)\n",
    "        np.save(f, test_data)\n",
    "        np.save(f, y_test)                                          \n",
    "else:\n",
    "    with open(dataset_path, 'rb') as f:\n",
    "        train_data = np.load(f)\n",
    "        y_train = np.load(f)\n",
    "        test_data = np.load(f)\n",
    "        y_test = np.load(f)"
   ]
  },
  {
   "source": [
    "### Standardizing the dataset\n",
    "We standardize our data as sklearn models expect standardized data to perform well. It's also good practice to standardize (or normalize) the data in order to facilitate the models to learn the underlying distribution without having weights that are excessively high.\n",
    "\n",
    "__Note:__ We fit the sklearn StandardScaler on the whole data because we want the same preprocess on both the training set and testing set. "
   ],
   "cell_type": "markdown",
   "metadata": {}
  },
  {
   "cell_type": "code",
   "execution_count": 28,
   "metadata": {},
   "outputs": [],
   "source": [
    "scaler = StandardScaler()\n",
    "scaler.fit(np.concatenate((train_data, test_data)))\n",
    "X_train = scaler.transform(train_data)\n",
    "X_test = scaler.transform(test_data)"
   ]
  },
  {
   "cell_type": "code",
   "execution_count": 29,
   "metadata": {},
   "outputs": [
    {
     "output_type": "stream",
     "name": "stdout",
     "text": [
      "X_train shape:  (2106, 36) X_test shape:  (524, 36)\n"
     ]
    }
   ],
   "source": [
    "print(\"X_train shape: \", X_train.shape, \"X_test shape: \", X_test.shape)"
   ]
  },
  {
   "source": [
    "## Assessing different models\n",
    "### K-Nearest Neighbors\n",
    "The first model we try is the K Nearest Neighbors algorithm which try to clusterize the data according to the number of neighbors we compute the distance from. Thus the distance metrics is very important here as well as a standardized dataset. We try odd numbers of neighbors because as we are in binary classification, we want to avoid tied votes."
   ],
   "cell_type": "markdown",
   "metadata": {}
  },
  {
   "cell_type": "code",
   "execution_count": 30,
   "metadata": {},
   "outputs": [
    {
     "output_type": "stream",
     "name": "stdout",
     "text": [
      "New best test accuracy 0.7863 with 3 neighbors.\n",
      "New best test accuracy 0.7977 with 41 neighbors.\n"
     ]
    }
   ],
   "source": [
    "max_num_neighbors = 41\n",
    "best_num_neighbors = 3\n",
    "best_accuracy = 0\n",
    "for num_neighbors in range(3, max_num_neighbors + 1, 2):\n",
    "    KNN = KNeighborsClassifier(num_neighbors)\n",
    "    KNN.fit(X_train, y_train)\n",
    "    accuracy = KNN.score(X_test, y_test)\n",
    "    if accuracy > best_accuracy:\n",
    "        print(f\"New best test accuracy {round(accuracy, 4)} with {num_neighbors} neighbors.\")\n",
    "        best_num_neighbors = num_neighbors\n",
    "        best_accuracy = accuracy"
   ]
  },
  {
   "cell_type": "code",
   "execution_count": 31,
   "metadata": {},
   "outputs": [
    {
     "output_type": "stream",
     "name": "stdout",
     "text": [
      "The best model within the range (2, 42) as number of neighbors to compute for the model is reached with 41 neighbors and the report is below.\n              precision    recall  f1-score   support\n\n           F       0.80      0.79      0.80       262\n           M       0.80      0.80      0.80       262\n\n    accuracy                           0.80       524\n   macro avg       0.80      0.80      0.80       524\nweighted avg       0.80      0.80      0.80       524\n\n"
     ]
    }
   ],
   "source": [
    "print(f\"The best model within the range (2, {max_num_neighbors+1}) as number of neighbors to compute for the model is reached with {best_num_neighbors} neighbors and the report is below.\")\n",
    "KNN = KNeighborsClassifier(best_num_neighbors)\n",
    "y_pred_knn = KNN.fit(X_train, y_train).predict(X_test)\n",
    "print(report(y_test, y_pred_knn))"
   ]
  },
  {
   "source": [
    "### Support Vector Machines\n",
    "The second model we try is a model from the Support vector machines group. This algorithm tries to draw an hyperplane between the two categories to maximize the margin. However it's very likely that we don't have linear data. We choose an RBF kernel as it usually outperforms polynomial and linear kernel due to the increased size of the function class."
   ],
   "cell_type": "markdown",
   "metadata": {}
  },
  {
   "cell_type": "code",
   "execution_count": 32,
   "metadata": {},
   "outputs": [
    {
     "output_type": "stream",
     "name": "stdout",
     "text": [
      "              precision    recall  f1-score   support\n\n           F       0.79      0.86      0.83       262\n           M       0.85      0.77      0.81       262\n\n    accuracy                           0.82       524\n   macro avg       0.82      0.82      0.82       524\nweighted avg       0.82      0.82      0.82       524\n\n"
     ]
    }
   ],
   "source": [
    "y_pred_svm = SVC(kernel=\"rbf\").fit(X_train, y_train).predict(X_test)\n",
    "print(report(y_test, y_pred_svm))"
   ]
  },
  {
   "source": [
    "### Multi Layer Perceptron\n",
    "The third model we try is a two layer perceptron. This is a classic model of feedforward neural networks composed of linear layers. Here we decide to make the first layer number of units $n1$ vary between 1 and $n_{mfcc}=36$ and the second layer vary from 1 to $n1$. We pick the L2 penalty to be $\\alpha=10^{-5}$. With more computational power, we would do a grid search on the L2 penalty, the learning rate, and the batch size."
   ],
   "cell_type": "markdown",
   "metadata": {}
  },
  {
   "cell_type": "code",
   "execution_count": 33,
   "metadata": {},
   "outputs": [
    {
     "output_type": "stream",
     "name": "stdout",
     "text": [
      "New best test accuracy 0.8511 with layer_opt=((1, 1)).\n",
      "New best test accuracy 0.8893 with layer_opt=((3, 1)).\n",
      "New best test accuracy 0.8989 with layer_opt=((4, 3)).\n",
      "New best test accuracy 0.9141 with layer_opt=((5, 3)).\n"
     ]
    }
   ],
   "source": [
    "max_num_hidden_units = n_mfcc\n",
    "layer_options = [(i, j) for i in range(1, max_num_hidden_units) for j in range(1, i+1)]\n",
    "best_accuracy = 0\n",
    "best_layer_opt = (1,1)\n",
    "for layer_opt in layer_options:\n",
    "    mlp = MLPClassifier(solver='adam', alpha=1e-5, hidden_layer_sizes=(layer_opt[0], layer_opt[1]), random_state=42)\n",
    "    mlp.fit(X_train, y_train)\n",
    "    accuracy = mlp.score(X_test, y_test)\n",
    "    if accuracy > best_accuracy:\n",
    "        best_layer_opt = layer_opt\n",
    "        best_accuracy = accuracy\n",
    "        print(f\"New best test accuracy {round(accuracy, 4)} with layer_opt=({layer_opt}).\")"
   ]
  },
  {
   "cell_type": "code",
   "execution_count": 34,
   "metadata": {},
   "outputs": [
    {
     "output_type": "stream",
     "name": "stdout",
     "text": [
      "Best number of hidden units for a 2perceptron: first layer: 5, second layer: 3 \n              precision    recall  f1-score   support\n\n           F       0.92      0.91      0.91       262\n           M       0.91      0.92      0.91       262\n\n    accuracy                           0.91       524\n   macro avg       0.91      0.91      0.91       524\nweighted avg       0.91      0.91      0.91       524\n\n"
     ]
    }
   ],
   "source": [
    "mlp = MLPClassifier(solver='adam', alpha=1e-5, hidden_layer_sizes=(best_layer_opt[0], best_layer_opt[1]), random_state=42)\n",
    "mlp.fit(X_train, y_train)\n",
    "print(f\"Best number of hidden units for a 2perceptron: first layer: {best_layer_opt[0]}, second layer: {best_layer_opt[1]} \")\n",
    "print(report(y_test, mlp.predict(X_test)))"
   ]
  },
  {
   "source": [
    "### 1D Convolutional NN with Linear Layers\n",
    "As fourth and last model that we try, we design a 1D-Convolutional Neural Network using Pytorch as framework.\n",
    "\n",
    "The architecture we decide to go for is the following:\n",
    "* input_shape: (batch_size, 1, n_mfcc) so that we will do convolution on the features trying to find some underlying distributions\n",
    "* Conv1d: (in_channels = 1, out_channels = 50, kernel_size = 9)  we selected the two parameters arbitrarly but a more rigorous approach would be to perform a grid search.\n",
    "* Batch Normalization: Smoothing of the objective function and [faster convergence](https://arxiv.org/abs/1805.11604).\n",
    "* Dense: ((n_mfcc - Conv1d.kernel_size + 1) * Conv1d.out_channels) so that we take what outputs Conv1d and do a dense layer.\n",
    "* Dropout: 0.8 so that we avoid overfitting.\n",
    "* Layer: ((n_mfcc - Conv1d.kernel_size + 1) * Conv1d.out_channels, 1)\n",
    "* output_shape: (batch_size, 1)\n",
    "\n",
    "The activation functions are leaky relu because the inputs can be negative and we use as optimizer Adam with a learning rate $l_r = 10^{-4}$ and a L2 penalty of $decay = 10^{-4}$. The loss function we use is the Binary Cross-Entropy (BCE) loss which is appropriate for binary classification tasks.\n",
    "\n",
    "After a few epochs, we get an accuracy of $\\approx 90\\%$ which outperforms except for the multi-perceptron."
   ],
   "cell_type": "markdown",
   "metadata": {}
  },
  {
   "source": [
    "#### Creating the Torch Datasets"
   ],
   "cell_type": "markdown",
   "metadata": {}
  },
  {
   "cell_type": "code",
   "execution_count": 42,
   "metadata": {},
   "outputs": [],
   "source": [
    "train_inputs = torch.from_numpy(X_train).type(torch.float32)\n",
    "train_targets = torch.from_numpy(y_train).type(torch.float32)\n",
    "train_dataset = TensorDataset(train_inputs, train_targets)\n",
    "\n",
    "test_inputs = torch.from_numpy(X_test).type(torch.float32)\n",
    "test_targets = torch.from_numpy(y_test).type(torch.float32)\n",
    "test_dataset = TensorDataset(test_inputs, test_targets)\n",
    "\n",
    "trainloader = torch.utils.data.DataLoader(train_dataset, batch_size=128,\n",
    "                                          shuffle=True, num_workers=12, drop_last=True)\n",
    "testloader = torch.utils.data.DataLoader(test_dataset, batch_size=128,\n",
    "                                          shuffle=False, num_workers=1)\n"
   ]
  },
  {
   "source": [
    "#### Defining the torch model"
   ],
   "cell_type": "markdown",
   "metadata": {}
  },
  {
   "cell_type": "code",
   "execution_count": 43,
   "metadata": {},
   "outputs": [],
   "source": [
    "class CNNClassifier(nn.Module):\n",
    "    def __init__(self, n_mfcc: int, out_channels: int = 50, kernel_size: int = 9) -> None:\n",
    "        super(CNNClassifier, self).__init__()\n",
    "        self.n_mfcc = n_mfcc\n",
    "        self.out_channels = out_channels\n",
    "        self.kernel_size = kernel_size \n",
    "        self.conv1 = nn.Conv1d(1, out_channels=out_channels, kernel_size=kernel_size)\n",
    "        self.bn1 = nn.BatchNorm1d(out_channels)\n",
    "        self.den1 = nn.Linear((self.n_mfcc - self.kernel_size + 1) * self.out_channels, (self.n_mfcc - self.kernel_size + 1) * self.out_channels)\n",
    "        self.lin1 = nn.Linear((self.n_mfcc - self.kernel_size + 1) * self.out_channels, 1)\n",
    "        self.dropout = nn.Dropout(0.8) # extreme value to avoid overfitting\n",
    "        self.sigmoid = nn.Sigmoid()\n",
    "        self.Lrelu = torch.nn.LeakyReLU()\n",
    "        \n",
    "    def forward(self, x):\n",
    "        x = self.Lrelu(self.conv1(x))\n",
    "        x = self.bn1(x)\n",
    "        x = x.view(-1, (self.n_mfcc - self.kernel_size + 1) * self.out_channels)\n",
    "        x = self.Lrelu(self.den1(x))\n",
    "        x = self.dropout(x)\n",
    "        x = self.Lrelu(self.lin1(x))\n",
    "        x = self.sigmoid(x)\n",
    "        return x"
   ]
  },
  {
   "source": [
    "#### Defining training and evaluating for the model"
   ],
   "cell_type": "markdown",
   "metadata": {}
  },
  {
   "cell_type": "code",
   "execution_count": 44,
   "metadata": {
    "tags": []
   },
   "outputs": [],
   "source": [
    "def train(\n",
    "    model,\n",
    "    trainloader: torch.utils.data.DataLoader,\n",
    "    n_epochs: int,\n",
    "    optimizer: torch.optim.Optimizer,\n",
    "    criterion: torch.nn.BCELoss,\n",
    "    epochs_before_eval: int = 1\n",
    "):\n",
    "    \"\"\" Train the 1D-CNN using a trainloader and a max num. of epochs. \"\"\"\n",
    "    best_test_accuracy = 0\n",
    "    for epoch in range(n_epochs):  # loop over the dataset multiple times\n",
    "        running_loss = 0.0\n",
    "        for i, data in enumerate(trainloader, 0):\n",
    "            inputs, labels = data[0].to(device), data[1].to(device)\n",
    "            optimizer.zero_grad()\n",
    "            inputs = inputs.unsqueeze(1)\n",
    "            outputs = model(inputs)\n",
    "            loss = criterion(outputs, labels)\n",
    "            loss.backward()\n",
    "            optimizer.step()\n",
    "\n",
    "            if epoch % epochs_before_eval == 0 and i == 0:\n",
    "                test_accuracy = eval(model, testloader)\n",
    "                # print(accuracy)\n",
    "                if best_test_accuracy < test_accuracy:\n",
    "                    print(f\"New best test accuracy at epoch {epoch}: {test_accuracy}.\")\n",
    "                    best_test_accuracy = test_accuracy\n",
    "                else:\n",
    "                    print('Finished Training, test accuracy started dropping.')\n",
    "                    return model\n",
    "\n",
    "            running_loss += loss.item()\n",
    "        # Log the loss to tensorboard\n",
    "        writer.add_scalar('Loss', running_loss, epoch)\n",
    "    print('Finished Training')\n",
    "    return model\n",
    "\n",
    "def eval(\n",
    "    model,\n",
    "    testloader: torch.utils.data.DataLoader\n",
    "):\n",
    "    \"\"\" Freeze the model and return accuracy from the testloader provided. \"\"\"\n",
    "    with torch.no_grad():\n",
    "        total_correct = 0\n",
    "        total_predictions = 0\n",
    "        for i, data in enumerate(testloader, 0):\n",
    "            inputs, labels = data[0].to(device), data[1].to(device)\n",
    "            inputs = inputs.unsqueeze(1)\n",
    "            outputs = model(inputs)\n",
    "            predictions = (outputs>0.5).float()\n",
    "            correct = (predictions == labels).float().sum()\n",
    "            total_predictions += predictions.shape[0]\n",
    "            total_correct += correct\n",
    "        return total_correct/total_predictions\n",
    "\n",
    "def make_report(model, testloader: torch.utils.data.DataLoader):\n",
    "    \"\"\"Evaluate the model and calls our report method.\n",
    "    \"\"\"\n",
    "    y_pred_cnn = []\n",
    "    y_test_cnn = []\n",
    "    with torch.no_grad():\n",
    "        for i, data in enumerate(testloader, 0):\n",
    "            inputs, labels = data[0].to(device), data[1].to(device)\n",
    "            inputs = inputs.unsqueeze(1)\n",
    "            outputs = torch.squeeze(model(inputs), dim=1).cpu().numpy()\n",
    "            labels = labels.cpu().numpy()\n",
    "            for prediction in outputs:\n",
    "                y_pred_cnn.append(int(prediction > 0.5))\n",
    "            for label in labels:\n",
    "                y_test_cnn.append(label)\n",
    "    return report(y_test_cnn, y_pred_cnn)"
   ]
  },
  {
   "cell_type": "code",
   "execution_count": 45,
   "metadata": {},
   "outputs": [
    {
     "output_type": "stream",
     "name": "stdout",
     "text": [
      "New best test accuracy at epoch 0: 66.89312744140625.\n",
      "New best test accuracy at epoch 1: 87.4542007446289.\n",
      "New best test accuracy at epoch 2: 88.1259536743164.\n",
      "Finished Training, test accuracy started dropping.\n",
      "\n",
      "              precision    recall  f1-score   support\n",
      "\n",
      "           F       0.93      0.86      0.89       262\n",
      "           M       0.87      0.94      0.90       262\n",
      "\n",
      "    accuracy                           0.90       524\n",
      "   macro avg       0.90      0.90      0.90       524\n",
      "weighted avg       0.90      0.90      0.90       524\n",
      "\n"
     ]
    }
   ],
   "source": [
    "# Detect if GPU is available\n",
    "device = torch.device(\"cuda:0\" if torch.cuda.is_available() else \"cpu\")\n",
    "# Create model with parameters for the conv1D layer\n",
    "model = CNNClassifier(n_mfcc=n_mfcc, out_channels=50, kernel_size=9)\n",
    "# Put model to gpu if possible\n",
    "model.to(device)\n",
    "# Select max number of epochs\n",
    "n_epochs = 20\n",
    "# Initialize criterion and optimizer\n",
    "criterion = nn.BCELoss()\n",
    "optimizer = optim.Adam(model.parameters(), lr=1e-4, weight_decay=1e-4)\n",
    "# Initialize tensorboard\n",
    "writer = SummaryWriter()\n",
    "# Train model\n",
    "model = train(model, trainloader, n_epochs, optimizer, criterion)\n",
    "# Get and print report\n",
    "cnn_report = make_report(model, testloader)\n",
    "print(\"\\n\" + cnn_report)"
   ]
  },
  {
   "source": [
    "## Conclusion\n",
    "We tried different models to tackle the speaker gender classification problem and we used models with an increased complexity which led to better results. But although we saw improvement, the complexity of our model increased drastically and this trade-off might not be always justified since it's way more time consuming.\n",
    "\n",
    "Besides, also it was good to use the same dataset to be able to compare them. We could have done without the MFCC features with the deep learning approach. Indeed, usually deep learning is used to avoid spending time on feature engineering, and even though it's very usual to use MFCC features in Speech Recognition, for a simple task like this one. I believe that a CNN would have been able to classify a signal directly from the time series."
   ],
   "cell_type": "markdown",
   "metadata": {}
  }
 ]
}